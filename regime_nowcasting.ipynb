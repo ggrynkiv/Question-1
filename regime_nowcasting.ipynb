{
  "nbformat": 4,
  "nbformat_minor": 0,
  "metadata": {
    "colab": {
      "name": "regime_nowcasting.ipynb",
      "provenance": [],
      "authorship_tag": "ABX9TyN4hxLsBwRMBvUA8MvPXd4C",
      "include_colab_link": true
    },
    "kernelspec": {
      "name": "python3",
      "display_name": "Python 3"
    }
  },
  "cells": [
    {
      "cell_type": "markdown",
      "metadata": {
        "id": "view-in-github",
        "colab_type": "text"
      },
      "source": [
        "<a href=\"https://colab.research.google.com/github/ggrynkiv/Question-1/blob/master/regime_nowcasting.ipynb\" target=\"_parent\"><img src=\"https://colab.research.google.com/assets/colab-badge.svg\" alt=\"Open In Colab\"/></a>"
      ]
    },
    {
      "cell_type": "code",
      "metadata": {
        "id": "S8cPlrpKz8TZ",
        "colab_type": "code",
        "colab": {
          "base_uri": "https://localhost:8080/",
          "height": 343
        },
        "outputId": "0fbb84a4-7de4-4a50-e535-fcea21439a07"
      },
      "source": [
        "import numpy as np\n",
        "import pandas as pd\n",
        "#from matplotlib.pylab import*\n",
        "import time\n",
        "import math\n",
        "import scipy.stats\n",
        "import importlib as impl\n",
        "import functools\n",
        "import pickle\n",
        "import urllib\n",
        "import sklearn\n",
        "import matplotlib.pyplot as plt\n",
        "from scipy.optimize import minimize, show_options\n",
        "from scipy.stats import gennorm\n",
        "from __future__ import division\n",
        "from sklearn import linear_model\n",
        "from sklearn.metrics import r2_score\n",
        "from sklearn.linear_model import LassoCV\n",
        "from sklearn.ensemble import RandomForestRegressor\n",
        "from sklearn import tree\n",
        "from sklearn.tree import DecisionTreeRegressor\n",
        "from sklearn.model_selection import GridSearchCV, \\\n",
        "cross_val_score, cross_val_predict, train_test_split\n",
        "from sklearn.ensemble import AdaBoostRegressor\n",
        "from google.colab import auth\n",
        "from google.cloud import storage\n",
        "import pandas_gbq\n",
        "import requests\n",
        "\n",
        "!pip install gcsfs\n",
        "import gcsfs"
      ],
      "execution_count": 14,
      "outputs": [
        {
          "output_type": "stream",
          "text": [
            "Requirement already satisfied: gcsfs in /usr/local/lib/python3.6/dist-packages (0.6.2)\n",
            "Requirement already satisfied: decorator in /usr/local/lib/python3.6/dist-packages (from gcsfs) (4.4.2)\n",
            "Requirement already satisfied: google-auth-oauthlib in /usr/local/lib/python3.6/dist-packages (from gcsfs) (0.4.1)\n",
            "Requirement already satisfied: requests in /usr/local/lib/python3.6/dist-packages (from gcsfs) (2.23.0)\n",
            "Requirement already satisfied: fsspec>=0.6.0 in /usr/local/lib/python3.6/dist-packages (from gcsfs) (0.7.4)\n",
            "Requirement already satisfied: google-auth>=1.2 in /usr/local/lib/python3.6/dist-packages (from gcsfs) (1.17.2)\n",
            "Requirement already satisfied: requests-oauthlib>=0.7.0 in /usr/local/lib/python3.6/dist-packages (from google-auth-oauthlib->gcsfs) (1.3.0)\n",
            "Requirement already satisfied: chardet<4,>=3.0.2 in /usr/local/lib/python3.6/dist-packages (from requests->gcsfs) (3.0.4)\n",
            "Requirement already satisfied: urllib3!=1.25.0,!=1.25.1,<1.26,>=1.21.1 in /usr/local/lib/python3.6/dist-packages (from requests->gcsfs) (1.24.3)\n",
            "Requirement already satisfied: certifi>=2017.4.17 in /usr/local/lib/python3.6/dist-packages (from requests->gcsfs) (2020.6.20)\n",
            "Requirement already satisfied: idna<3,>=2.5 in /usr/local/lib/python3.6/dist-packages (from requests->gcsfs) (2.10)\n",
            "Requirement already satisfied: cachetools<5.0,>=2.0.0 in /usr/local/lib/python3.6/dist-packages (from google-auth>=1.2->gcsfs) (4.1.1)\n",
            "Requirement already satisfied: pyasn1-modules>=0.2.1 in /usr/local/lib/python3.6/dist-packages (from google-auth>=1.2->gcsfs) (0.2.8)\n",
            "Requirement already satisfied: setuptools>=40.3.0 in /usr/local/lib/python3.6/dist-packages (from google-auth>=1.2->gcsfs) (49.1.0)\n",
            "Requirement already satisfied: rsa<5,>=3.1.4; python_version >= \"3\" in /usr/local/lib/python3.6/dist-packages (from google-auth>=1.2->gcsfs) (4.6)\n",
            "Requirement already satisfied: six>=1.9.0 in /usr/local/lib/python3.6/dist-packages (from google-auth>=1.2->gcsfs) (1.15.0)\n",
            "Requirement already satisfied: oauthlib>=3.0.0 in /usr/local/lib/python3.6/dist-packages (from requests-oauthlib>=0.7.0->google-auth-oauthlib->gcsfs) (3.1.0)\n",
            "Requirement already satisfied: pyasn1<0.5.0,>=0.4.6 in /usr/local/lib/python3.6/dist-packages (from pyasn1-modules>=0.2.1->google-auth>=1.2->gcsfs) (0.4.8)\n"
          ],
          "name": "stdout"
        }
      ]
    },
    {
      "cell_type": "markdown",
      "metadata": {
        "id": "fIRZ3XmXjq9N",
        "colab_type": "text"
      },
      "source": [
        "### This files aims to label starategies as Winner, Loser or Neutral for different volatility regimes\n"
      ]
    },
    {
      "cell_type": "markdown",
      "metadata": {
        "id": "ibKIDDsX5ru7",
        "colab_type": "text"
      },
      "source": [
        "## Upload Data"
      ]
    },
    {
      "cell_type": "code",
      "metadata": {
        "id": "ak0Bea07Lv3N",
        "colab_type": "code",
        "colab": {}
      },
      "source": [
        "auth.authenticate_user()\n",
        "\n",
        "project_id = \"ConfindenceAI\"\n",
        "bucket_name = \"unstructured_info\"\n",
        "\n",
        "\n",
        "tclient = storage.Client(project=project_id)\n",
        "bucket = tclient.get_bucket(bucket_name)\n",
        "\n",
        "blobs = bucket.list_blobs()\n",
        "blobs\n",
        "\n",
        "raw_data = {}\n",
        "\n",
        "for file in blobs:\n",
        "    filename = file.name\n",
        "    \n",
        "    try:\n",
        "      temp = pd.read_csv('gs://'+bucket_name+'/'+filename)\n",
        "      x = filename.split(\".\")\n",
        "      raw_data[x[0]] = temp\n",
        "    except: \n",
        "      temp = pd.read_excel('gs://'+bucket_name+'/'+filename,  header= 0)\n",
        "      x = filename.split(\".\")\n",
        "      raw_data[x[0]] = temp\n"
      ],
      "execution_count": 15,
      "outputs": []
    },
    {
      "cell_type": "markdown",
      "metadata": {
        "id": "EWNPo1LQYgJZ",
        "colab_type": "text"
      },
      "source": [
        "upload vix"
      ]
    },
    {
      "cell_type": "code",
      "metadata": {
        "id": "g81b3_JQZ3VW",
        "colab_type": "code",
        "colab": {}
      },
      "source": [
        "project_id = \"ConfindenceAI\"\n",
        "bucket_name = \"strategy_data\"\n",
        "\n",
        "vix= pd.DataFrame()\n",
        "\n",
        "tclient = storage.Client(project=project_id)\n",
        "bucket = tclient.get_bucket(bucket_name)\n",
        "vix = pd.read_csv('gs://'+bucket_name+'/'+'VIX.csv')"
      ],
      "execution_count": 37,
      "outputs": []
    },
    {
      "cell_type": "code",
      "metadata": {
        "id": "8sCm7793bJpg",
        "colab_type": "code",
        "colab": {}
      },
      "source": [
        "vix['Date'] = pd.to_datetime(vix['Date'])"
      ],
      "execution_count": 38,
      "outputs": []
    },
    {
      "cell_type": "code",
      "metadata": {
        "id": "5RfpoMf9DbGk",
        "colab_type": "code",
        "colab": {
          "base_uri": "https://localhost:8080/",
          "height": 34
        },
        "outputId": "3256093a-392d-490a-fd5e-2556efb3d4f9"
      },
      "source": [
        "raw_data.keys()"
      ],
      "execution_count": 39,
      "outputs": [
        {
          "output_type": "execute_result",
          "data": {
            "text/plain": [
              "dict_keys(['Equity_Uncertainty_Index', 'Quandle_Investment_Sentiment', 'Twitter_Uncertainty'])"
            ]
          },
          "metadata": {
            "tags": []
          },
          "execution_count": 39
        }
      ]
    },
    {
      "cell_type": "code",
      "metadata": {
        "id": "iolGTwkfOvuX",
        "colab_type": "code",
        "colab": {}
      },
      "source": [
        "data = raw_data['Equity_Uncertainty_Index']\n",
        "data.rename(columns = {'Value': 'EUI'}, inplace = True)\n",
        "data['Date'] = pd.to_datetime(data['Date'])\n",
        "data  = pd.merge(data, raw_data['Twitter_Uncertainty'], left_on = 'Date', right_on = 'date')\n",
        "data.drop(columns=['date'], inplace = True)\n",
        "data.dropna(subset = ['Date'], inplace = True)"
      ],
      "execution_count": 40,
      "outputs": []
    },
    {
      "cell_type": "code",
      "metadata": {
        "id": "eh9UCB5fNGwN",
        "colab_type": "code",
        "colab": {
          "base_uri": "https://localhost:8080/",
          "height": 419
        },
        "outputId": "8c03d86c-0c23-4022-912d-ddded19a30ad"
      },
      "source": [
        "data"
      ],
      "execution_count": 41,
      "outputs": [
        {
          "output_type": "execute_result",
          "data": {
            "text/html": [
              "<div>\n",
              "<style scoped>\n",
              "    .dataframe tbody tr th:only-of-type {\n",
              "        vertical-align: middle;\n",
              "    }\n",
              "\n",
              "    .dataframe tbody tr th {\n",
              "        vertical-align: top;\n",
              "    }\n",
              "\n",
              "    .dataframe thead th {\n",
              "        text-align: right;\n",
              "    }\n",
              "</style>\n",
              "<table border=\"1\" class=\"dataframe\">\n",
              "  <thead>\n",
              "    <tr style=\"text-align: right;\">\n",
              "      <th></th>\n",
              "      <th>Date</th>\n",
              "      <th>EUI</th>\n",
              "      <th>TEU</th>\n",
              "      <th>TMU</th>\n",
              "    </tr>\n",
              "  </thead>\n",
              "  <tbody>\n",
              "    <tr>\n",
              "      <th>0</th>\n",
              "      <td>2020-07-19</td>\n",
              "      <td>286.29</td>\n",
              "      <td>245.612501</td>\n",
              "      <td>280.777668</td>\n",
              "    </tr>\n",
              "    <tr>\n",
              "      <th>1</th>\n",
              "      <td>2020-07-18</td>\n",
              "      <td>87.63</td>\n",
              "      <td>312.903597</td>\n",
              "      <td>255.494370</td>\n",
              "    </tr>\n",
              "    <tr>\n",
              "      <th>2</th>\n",
              "      <td>2020-07-17</td>\n",
              "      <td>138.37</td>\n",
              "      <td>531.599659</td>\n",
              "      <td>585.507932</td>\n",
              "    </tr>\n",
              "    <tr>\n",
              "      <th>3</th>\n",
              "      <td>2020-07-16</td>\n",
              "      <td>141.32</td>\n",
              "      <td>706.556509</td>\n",
              "      <td>585.507932</td>\n",
              "    </tr>\n",
              "    <tr>\n",
              "      <th>4</th>\n",
              "      <td>2020-07-15</td>\n",
              "      <td>175.09</td>\n",
              "      <td>689.733735</td>\n",
              "      <td>601.476330</td>\n",
              "    </tr>\n",
              "    <tr>\n",
              "      <th>...</th>\n",
              "      <td>...</td>\n",
              "      <td>...</td>\n",
              "      <td>...</td>\n",
              "      <td>...</td>\n",
              "    </tr>\n",
              "    <tr>\n",
              "      <th>3483</th>\n",
              "      <td>2011-01-05</td>\n",
              "      <td>6.18</td>\n",
              "      <td>30.280993</td>\n",
              "      <td>46.574495</td>\n",
              "    </tr>\n",
              "    <tr>\n",
              "      <th>3484</th>\n",
              "      <td>2011-01-04</td>\n",
              "      <td>33.85</td>\n",
              "      <td>47.103767</td>\n",
              "      <td>62.542893</td>\n",
              "    </tr>\n",
              "    <tr>\n",
              "      <th>3485</th>\n",
              "      <td>2011-01-03</td>\n",
              "      <td>21.97</td>\n",
              "      <td>50.468322</td>\n",
              "      <td>42.582395</td>\n",
              "    </tr>\n",
              "    <tr>\n",
              "      <th>3486</th>\n",
              "      <td>2011-01-02</td>\n",
              "      <td>85.31</td>\n",
              "      <td>35.327825</td>\n",
              "      <td>17.299098</td>\n",
              "    </tr>\n",
              "    <tr>\n",
              "      <th>3487</th>\n",
              "      <td>2011-01-01</td>\n",
              "      <td>296.77</td>\n",
              "      <td>25.234161</td>\n",
              "      <td>18.629798</td>\n",
              "    </tr>\n",
              "  </tbody>\n",
              "</table>\n",
              "<p>3488 rows × 4 columns</p>\n",
              "</div>"
            ],
            "text/plain": [
              "           Date     EUI         TEU         TMU\n",
              "0    2020-07-19  286.29  245.612501  280.777668\n",
              "1    2020-07-18   87.63  312.903597  255.494370\n",
              "2    2020-07-17  138.37  531.599659  585.507932\n",
              "3    2020-07-16  141.32  706.556509  585.507932\n",
              "4    2020-07-15  175.09  689.733735  601.476330\n",
              "...         ...     ...         ...         ...\n",
              "3483 2011-01-05    6.18   30.280993   46.574495\n",
              "3484 2011-01-04   33.85   47.103767   62.542893\n",
              "3485 2011-01-03   21.97   50.468322   42.582395\n",
              "3486 2011-01-02   85.31   35.327825   17.299098\n",
              "3487 2011-01-01  296.77   25.234161   18.629798\n",
              "\n",
              "[3488 rows x 4 columns]"
            ]
          },
          "metadata": {
            "tags": []
          },
          "execution_count": 41
        }
      ]
    },
    {
      "cell_type": "code",
      "metadata": {
        "id": "Bg3znCo1rrmL",
        "colab_type": "code",
        "colab": {
          "base_uri": "https://localhost:8080/",
          "height": 419
        },
        "outputId": "88dfd95a-ffc6-49ab-81d1-07790bb8b638"
      },
      "source": [
        "data.dropna()\n",
        "data"
      ],
      "execution_count": 42,
      "outputs": [
        {
          "output_type": "execute_result",
          "data": {
            "text/html": [
              "<div>\n",
              "<style scoped>\n",
              "    .dataframe tbody tr th:only-of-type {\n",
              "        vertical-align: middle;\n",
              "    }\n",
              "\n",
              "    .dataframe tbody tr th {\n",
              "        vertical-align: top;\n",
              "    }\n",
              "\n",
              "    .dataframe thead th {\n",
              "        text-align: right;\n",
              "    }\n",
              "</style>\n",
              "<table border=\"1\" class=\"dataframe\">\n",
              "  <thead>\n",
              "    <tr style=\"text-align: right;\">\n",
              "      <th></th>\n",
              "      <th>Date</th>\n",
              "      <th>EUI</th>\n",
              "      <th>TEU</th>\n",
              "      <th>TMU</th>\n",
              "    </tr>\n",
              "  </thead>\n",
              "  <tbody>\n",
              "    <tr>\n",
              "      <th>0</th>\n",
              "      <td>2020-07-19</td>\n",
              "      <td>286.29</td>\n",
              "      <td>245.612501</td>\n",
              "      <td>280.777668</td>\n",
              "    </tr>\n",
              "    <tr>\n",
              "      <th>1</th>\n",
              "      <td>2020-07-18</td>\n",
              "      <td>87.63</td>\n",
              "      <td>312.903597</td>\n",
              "      <td>255.494370</td>\n",
              "    </tr>\n",
              "    <tr>\n",
              "      <th>2</th>\n",
              "      <td>2020-07-17</td>\n",
              "      <td>138.37</td>\n",
              "      <td>531.599659</td>\n",
              "      <td>585.507932</td>\n",
              "    </tr>\n",
              "    <tr>\n",
              "      <th>3</th>\n",
              "      <td>2020-07-16</td>\n",
              "      <td>141.32</td>\n",
              "      <td>706.556509</td>\n",
              "      <td>585.507932</td>\n",
              "    </tr>\n",
              "    <tr>\n",
              "      <th>4</th>\n",
              "      <td>2020-07-15</td>\n",
              "      <td>175.09</td>\n",
              "      <td>689.733735</td>\n",
              "      <td>601.476330</td>\n",
              "    </tr>\n",
              "    <tr>\n",
              "      <th>...</th>\n",
              "      <td>...</td>\n",
              "      <td>...</td>\n",
              "      <td>...</td>\n",
              "      <td>...</td>\n",
              "    </tr>\n",
              "    <tr>\n",
              "      <th>3483</th>\n",
              "      <td>2011-01-05</td>\n",
              "      <td>6.18</td>\n",
              "      <td>30.280993</td>\n",
              "      <td>46.574495</td>\n",
              "    </tr>\n",
              "    <tr>\n",
              "      <th>3484</th>\n",
              "      <td>2011-01-04</td>\n",
              "      <td>33.85</td>\n",
              "      <td>47.103767</td>\n",
              "      <td>62.542893</td>\n",
              "    </tr>\n",
              "    <tr>\n",
              "      <th>3485</th>\n",
              "      <td>2011-01-03</td>\n",
              "      <td>21.97</td>\n",
              "      <td>50.468322</td>\n",
              "      <td>42.582395</td>\n",
              "    </tr>\n",
              "    <tr>\n",
              "      <th>3486</th>\n",
              "      <td>2011-01-02</td>\n",
              "      <td>85.31</td>\n",
              "      <td>35.327825</td>\n",
              "      <td>17.299098</td>\n",
              "    </tr>\n",
              "    <tr>\n",
              "      <th>3487</th>\n",
              "      <td>2011-01-01</td>\n",
              "      <td>296.77</td>\n",
              "      <td>25.234161</td>\n",
              "      <td>18.629798</td>\n",
              "    </tr>\n",
              "  </tbody>\n",
              "</table>\n",
              "<p>3488 rows × 4 columns</p>\n",
              "</div>"
            ],
            "text/plain": [
              "           Date     EUI         TEU         TMU\n",
              "0    2020-07-19  286.29  245.612501  280.777668\n",
              "1    2020-07-18   87.63  312.903597  255.494370\n",
              "2    2020-07-17  138.37  531.599659  585.507932\n",
              "3    2020-07-16  141.32  706.556509  585.507932\n",
              "4    2020-07-15  175.09  689.733735  601.476330\n",
              "...         ...     ...         ...         ...\n",
              "3483 2011-01-05    6.18   30.280993   46.574495\n",
              "3484 2011-01-04   33.85   47.103767   62.542893\n",
              "3485 2011-01-03   21.97   50.468322   42.582395\n",
              "3486 2011-01-02   85.31   35.327825   17.299098\n",
              "3487 2011-01-01  296.77   25.234161   18.629798\n",
              "\n",
              "[3488 rows x 4 columns]"
            ]
          },
          "metadata": {
            "tags": []
          },
          "execution_count": 42
        }
      ]
    },
    {
      "cell_type": "code",
      "metadata": {
        "id": "YgIJUoftcRUN",
        "colab_type": "code",
        "colab": {}
      },
      "source": [
        "data  = pd.merge(data, vix[['Date', 'Adj Close']], on = 'Date', how = 'outer')"
      ],
      "execution_count": 43,
      "outputs": []
    },
    {
      "cell_type": "code",
      "metadata": {
        "id": "ftPwj0RkcRYZ",
        "colab_type": "code",
        "colab": {}
      },
      "source": [
        "data.rename(columns = {'Adj Close': 'VIX'}, inplace = True)"
      ],
      "execution_count": 44,
      "outputs": []
    },
    {
      "cell_type": "code",
      "metadata": {
        "id": "qfGDgjJycRdT",
        "colab_type": "code",
        "colab": {
          "base_uri": "https://localhost:8080/",
          "height": 419
        },
        "outputId": "026ea7f9-45cf-49cc-fe5d-6d4a9ff57fc9"
      },
      "source": [
        "data"
      ],
      "execution_count": 45,
      "outputs": [
        {
          "output_type": "execute_result",
          "data": {
            "text/html": [
              "<div>\n",
              "<style scoped>\n",
              "    .dataframe tbody tr th:only-of-type {\n",
              "        vertical-align: middle;\n",
              "    }\n",
              "\n",
              "    .dataframe tbody tr th {\n",
              "        vertical-align: top;\n",
              "    }\n",
              "\n",
              "    .dataframe thead th {\n",
              "        text-align: right;\n",
              "    }\n",
              "</style>\n",
              "<table border=\"1\" class=\"dataframe\">\n",
              "  <thead>\n",
              "    <tr style=\"text-align: right;\">\n",
              "      <th></th>\n",
              "      <th>Date</th>\n",
              "      <th>EUI</th>\n",
              "      <th>TEU</th>\n",
              "      <th>TMU</th>\n",
              "      <th>VIX</th>\n",
              "    </tr>\n",
              "  </thead>\n",
              "  <tbody>\n",
              "    <tr>\n",
              "      <th>0</th>\n",
              "      <td>2020-07-19</td>\n",
              "      <td>286.29</td>\n",
              "      <td>245.612501</td>\n",
              "      <td>280.777668</td>\n",
              "      <td>NaN</td>\n",
              "    </tr>\n",
              "    <tr>\n",
              "      <th>1</th>\n",
              "      <td>2020-07-18</td>\n",
              "      <td>87.63</td>\n",
              "      <td>312.903597</td>\n",
              "      <td>255.494370</td>\n",
              "      <td>NaN</td>\n",
              "    </tr>\n",
              "    <tr>\n",
              "      <th>2</th>\n",
              "      <td>2020-07-17</td>\n",
              "      <td>138.37</td>\n",
              "      <td>531.599659</td>\n",
              "      <td>585.507932</td>\n",
              "      <td>25.680000</td>\n",
              "    </tr>\n",
              "    <tr>\n",
              "      <th>3</th>\n",
              "      <td>2020-07-16</td>\n",
              "      <td>141.32</td>\n",
              "      <td>706.556509</td>\n",
              "      <td>585.507932</td>\n",
              "      <td>28.000000</td>\n",
              "    </tr>\n",
              "    <tr>\n",
              "      <th>4</th>\n",
              "      <td>2020-07-15</td>\n",
              "      <td>175.09</td>\n",
              "      <td>689.733735</td>\n",
              "      <td>601.476330</td>\n",
              "      <td>27.760000</td>\n",
              "    </tr>\n",
              "    <tr>\n",
              "      <th>...</th>\n",
              "      <td>...</td>\n",
              "      <td>...</td>\n",
              "      <td>...</td>\n",
              "      <td>...</td>\n",
              "      <td>...</td>\n",
              "    </tr>\n",
              "    <tr>\n",
              "      <th>8641</th>\n",
              "      <td>2010-12-30</td>\n",
              "      <td>NaN</td>\n",
              "      <td>NaN</td>\n",
              "      <td>NaN</td>\n",
              "      <td>17.520000</td>\n",
              "    </tr>\n",
              "    <tr>\n",
              "      <th>8642</th>\n",
              "      <td>2010-12-31</td>\n",
              "      <td>NaN</td>\n",
              "      <td>NaN</td>\n",
              "      <td>NaN</td>\n",
              "      <td>17.750000</td>\n",
              "    </tr>\n",
              "    <tr>\n",
              "      <th>8643</th>\n",
              "      <td>2020-07-20</td>\n",
              "      <td>NaN</td>\n",
              "      <td>NaN</td>\n",
              "      <td>NaN</td>\n",
              "      <td>24.459999</td>\n",
              "    </tr>\n",
              "    <tr>\n",
              "      <th>8644</th>\n",
              "      <td>2020-07-21</td>\n",
              "      <td>NaN</td>\n",
              "      <td>NaN</td>\n",
              "      <td>NaN</td>\n",
              "      <td>24.840000</td>\n",
              "    </tr>\n",
              "    <tr>\n",
              "      <th>8645</th>\n",
              "      <td>2020-07-22</td>\n",
              "      <td>NaN</td>\n",
              "      <td>NaN</td>\n",
              "      <td>NaN</td>\n",
              "      <td>24.320000</td>\n",
              "    </tr>\n",
              "  </tbody>\n",
              "</table>\n",
              "<p>8646 rows × 5 columns</p>\n",
              "</div>"
            ],
            "text/plain": [
              "           Date     EUI         TEU         TMU        VIX\n",
              "0    2020-07-19  286.29  245.612501  280.777668        NaN\n",
              "1    2020-07-18   87.63  312.903597  255.494370        NaN\n",
              "2    2020-07-17  138.37  531.599659  585.507932  25.680000\n",
              "3    2020-07-16  141.32  706.556509  585.507932  28.000000\n",
              "4    2020-07-15  175.09  689.733735  601.476330  27.760000\n",
              "...         ...     ...         ...         ...        ...\n",
              "8641 2010-12-30     NaN         NaN         NaN  17.520000\n",
              "8642 2010-12-31     NaN         NaN         NaN  17.750000\n",
              "8643 2020-07-20     NaN         NaN         NaN  24.459999\n",
              "8644 2020-07-21     NaN         NaN         NaN  24.840000\n",
              "8645 2020-07-22     NaN         NaN         NaN  24.320000\n",
              "\n",
              "[8646 rows x 5 columns]"
            ]
          },
          "metadata": {
            "tags": []
          },
          "execution_count": 45
        }
      ]
    },
    {
      "cell_type": "code",
      "metadata": {
        "id": "NfEbhpqFcRgP",
        "colab_type": "code",
        "colab": {
          "base_uri": "https://localhost:8080/",
          "height": 419
        },
        "outputId": "cbe45b4d-34e2-4437-fd07-8b4e47982759"
      },
      "source": [
        "data.sort_values(by=['Date'])"
      ],
      "execution_count": 46,
      "outputs": [
        {
          "output_type": "execute_result",
          "data": {
            "text/html": [
              "<div>\n",
              "<style scoped>\n",
              "    .dataframe tbody tr th:only-of-type {\n",
              "        vertical-align: middle;\n",
              "    }\n",
              "\n",
              "    .dataframe tbody tr th {\n",
              "        vertical-align: top;\n",
              "    }\n",
              "\n",
              "    .dataframe thead th {\n",
              "        text-align: right;\n",
              "    }\n",
              "</style>\n",
              "<table border=\"1\" class=\"dataframe\">\n",
              "  <thead>\n",
              "    <tr style=\"text-align: right;\">\n",
              "      <th></th>\n",
              "      <th>Date</th>\n",
              "      <th>EUI</th>\n",
              "      <th>TEU</th>\n",
              "      <th>TMU</th>\n",
              "      <th>VIX</th>\n",
              "    </tr>\n",
              "  </thead>\n",
              "  <tbody>\n",
              "    <tr>\n",
              "      <th>3488</th>\n",
              "      <td>1990-07-23</td>\n",
              "      <td>NaN</td>\n",
              "      <td>NaN</td>\n",
              "      <td>NaN</td>\n",
              "      <td>23.680000</td>\n",
              "    </tr>\n",
              "    <tr>\n",
              "      <th>3489</th>\n",
              "      <td>1990-07-24</td>\n",
              "      <td>NaN</td>\n",
              "      <td>NaN</td>\n",
              "      <td>NaN</td>\n",
              "      <td>21.790001</td>\n",
              "    </tr>\n",
              "    <tr>\n",
              "      <th>3490</th>\n",
              "      <td>1990-07-25</td>\n",
              "      <td>NaN</td>\n",
              "      <td>NaN</td>\n",
              "      <td>NaN</td>\n",
              "      <td>20.190001</td>\n",
              "    </tr>\n",
              "    <tr>\n",
              "      <th>3491</th>\n",
              "      <td>1990-07-26</td>\n",
              "      <td>NaN</td>\n",
              "      <td>NaN</td>\n",
              "      <td>NaN</td>\n",
              "      <td>20.260000</td>\n",
              "    </tr>\n",
              "    <tr>\n",
              "      <th>3492</th>\n",
              "      <td>1990-07-27</td>\n",
              "      <td>NaN</td>\n",
              "      <td>NaN</td>\n",
              "      <td>NaN</td>\n",
              "      <td>21.120001</td>\n",
              "    </tr>\n",
              "    <tr>\n",
              "      <th>...</th>\n",
              "      <td>...</td>\n",
              "      <td>...</td>\n",
              "      <td>...</td>\n",
              "      <td>...</td>\n",
              "      <td>...</td>\n",
              "    </tr>\n",
              "    <tr>\n",
              "      <th>1</th>\n",
              "      <td>2020-07-18</td>\n",
              "      <td>87.63</td>\n",
              "      <td>312.903597</td>\n",
              "      <td>255.494370</td>\n",
              "      <td>NaN</td>\n",
              "    </tr>\n",
              "    <tr>\n",
              "      <th>0</th>\n",
              "      <td>2020-07-19</td>\n",
              "      <td>286.29</td>\n",
              "      <td>245.612501</td>\n",
              "      <td>280.777668</td>\n",
              "      <td>NaN</td>\n",
              "    </tr>\n",
              "    <tr>\n",
              "      <th>8643</th>\n",
              "      <td>2020-07-20</td>\n",
              "      <td>NaN</td>\n",
              "      <td>NaN</td>\n",
              "      <td>NaN</td>\n",
              "      <td>24.459999</td>\n",
              "    </tr>\n",
              "    <tr>\n",
              "      <th>8644</th>\n",
              "      <td>2020-07-21</td>\n",
              "      <td>NaN</td>\n",
              "      <td>NaN</td>\n",
              "      <td>NaN</td>\n",
              "      <td>24.840000</td>\n",
              "    </tr>\n",
              "    <tr>\n",
              "      <th>8645</th>\n",
              "      <td>2020-07-22</td>\n",
              "      <td>NaN</td>\n",
              "      <td>NaN</td>\n",
              "      <td>NaN</td>\n",
              "      <td>24.320000</td>\n",
              "    </tr>\n",
              "  </tbody>\n",
              "</table>\n",
              "<p>8646 rows × 5 columns</p>\n",
              "</div>"
            ],
            "text/plain": [
              "           Date     EUI         TEU         TMU        VIX\n",
              "3488 1990-07-23     NaN         NaN         NaN  23.680000\n",
              "3489 1990-07-24     NaN         NaN         NaN  21.790001\n",
              "3490 1990-07-25     NaN         NaN         NaN  20.190001\n",
              "3491 1990-07-26     NaN         NaN         NaN  20.260000\n",
              "3492 1990-07-27     NaN         NaN         NaN  21.120001\n",
              "...         ...     ...         ...         ...        ...\n",
              "1    2020-07-18   87.63  312.903597  255.494370        NaN\n",
              "0    2020-07-19  286.29  245.612501  280.777668        NaN\n",
              "8643 2020-07-20     NaN         NaN         NaN  24.459999\n",
              "8644 2020-07-21     NaN         NaN         NaN  24.840000\n",
              "8645 2020-07-22     NaN         NaN         NaN  24.320000\n",
              "\n",
              "[8646 rows x 5 columns]"
            ]
          },
          "metadata": {
            "tags": []
          },
          "execution_count": 46
        }
      ]
    },
    {
      "cell_type": "code",
      "metadata": {
        "id": "AorXBu2QcRjX",
        "colab_type": "code",
        "colab": {}
      },
      "source": [
        "df = data.loc[pd.notnull(data['TMU'])]"
      ],
      "execution_count": 49,
      "outputs": []
    },
    {
      "cell_type": "code",
      "metadata": {
        "id": "qeq0zzvQcRl_",
        "colab_type": "code",
        "colab": {
          "base_uri": "https://localhost:8080/",
          "height": 419
        },
        "outputId": "b38fae1c-7ffb-4325-ddc8-934f5ae662e2"
      },
      "source": [
        "df"
      ],
      "execution_count": 50,
      "outputs": [
        {
          "output_type": "execute_result",
          "data": {
            "text/html": [
              "<div>\n",
              "<style scoped>\n",
              "    .dataframe tbody tr th:only-of-type {\n",
              "        vertical-align: middle;\n",
              "    }\n",
              "\n",
              "    .dataframe tbody tr th {\n",
              "        vertical-align: top;\n",
              "    }\n",
              "\n",
              "    .dataframe thead th {\n",
              "        text-align: right;\n",
              "    }\n",
              "</style>\n",
              "<table border=\"1\" class=\"dataframe\">\n",
              "  <thead>\n",
              "    <tr style=\"text-align: right;\">\n",
              "      <th></th>\n",
              "      <th>Date</th>\n",
              "      <th>EUI</th>\n",
              "      <th>TEU</th>\n",
              "      <th>TMU</th>\n",
              "      <th>VIX</th>\n",
              "    </tr>\n",
              "  </thead>\n",
              "  <tbody>\n",
              "    <tr>\n",
              "      <th>0</th>\n",
              "      <td>2020-07-19</td>\n",
              "      <td>286.29</td>\n",
              "      <td>245.612501</td>\n",
              "      <td>280.777668</td>\n",
              "      <td>NaN</td>\n",
              "    </tr>\n",
              "    <tr>\n",
              "      <th>1</th>\n",
              "      <td>2020-07-18</td>\n",
              "      <td>87.63</td>\n",
              "      <td>312.903597</td>\n",
              "      <td>255.494370</td>\n",
              "      <td>NaN</td>\n",
              "    </tr>\n",
              "    <tr>\n",
              "      <th>2</th>\n",
              "      <td>2020-07-17</td>\n",
              "      <td>138.37</td>\n",
              "      <td>531.599659</td>\n",
              "      <td>585.507932</td>\n",
              "      <td>25.680000</td>\n",
              "    </tr>\n",
              "    <tr>\n",
              "      <th>3</th>\n",
              "      <td>2020-07-16</td>\n",
              "      <td>141.32</td>\n",
              "      <td>706.556509</td>\n",
              "      <td>585.507932</td>\n",
              "      <td>28.000000</td>\n",
              "    </tr>\n",
              "    <tr>\n",
              "      <th>4</th>\n",
              "      <td>2020-07-15</td>\n",
              "      <td>175.09</td>\n",
              "      <td>689.733735</td>\n",
              "      <td>601.476330</td>\n",
              "      <td>27.760000</td>\n",
              "    </tr>\n",
              "    <tr>\n",
              "      <th>...</th>\n",
              "      <td>...</td>\n",
              "      <td>...</td>\n",
              "      <td>...</td>\n",
              "      <td>...</td>\n",
              "      <td>...</td>\n",
              "    </tr>\n",
              "    <tr>\n",
              "      <th>3483</th>\n",
              "      <td>2011-01-05</td>\n",
              "      <td>6.18</td>\n",
              "      <td>30.280993</td>\n",
              "      <td>46.574495</td>\n",
              "      <td>17.020000</td>\n",
              "    </tr>\n",
              "    <tr>\n",
              "      <th>3484</th>\n",
              "      <td>2011-01-04</td>\n",
              "      <td>33.85</td>\n",
              "      <td>47.103767</td>\n",
              "      <td>62.542893</td>\n",
              "      <td>17.379999</td>\n",
              "    </tr>\n",
              "    <tr>\n",
              "      <th>3485</th>\n",
              "      <td>2011-01-03</td>\n",
              "      <td>21.97</td>\n",
              "      <td>50.468322</td>\n",
              "      <td>42.582395</td>\n",
              "      <td>17.610001</td>\n",
              "    </tr>\n",
              "    <tr>\n",
              "      <th>3486</th>\n",
              "      <td>2011-01-02</td>\n",
              "      <td>85.31</td>\n",
              "      <td>35.327825</td>\n",
              "      <td>17.299098</td>\n",
              "      <td>NaN</td>\n",
              "    </tr>\n",
              "    <tr>\n",
              "      <th>3487</th>\n",
              "      <td>2011-01-01</td>\n",
              "      <td>296.77</td>\n",
              "      <td>25.234161</td>\n",
              "      <td>18.629798</td>\n",
              "      <td>NaN</td>\n",
              "    </tr>\n",
              "  </tbody>\n",
              "</table>\n",
              "<p>3488 rows × 5 columns</p>\n",
              "</div>"
            ],
            "text/plain": [
              "           Date     EUI         TEU         TMU        VIX\n",
              "0    2020-07-19  286.29  245.612501  280.777668        NaN\n",
              "1    2020-07-18   87.63  312.903597  255.494370        NaN\n",
              "2    2020-07-17  138.37  531.599659  585.507932  25.680000\n",
              "3    2020-07-16  141.32  706.556509  585.507932  28.000000\n",
              "4    2020-07-15  175.09  689.733735  601.476330  27.760000\n",
              "...         ...     ...         ...         ...        ...\n",
              "3483 2011-01-05    6.18   30.280993   46.574495  17.020000\n",
              "3484 2011-01-04   33.85   47.103767   62.542893  17.379999\n",
              "3485 2011-01-03   21.97   50.468322   42.582395  17.610001\n",
              "3486 2011-01-02   85.31   35.327825   17.299098        NaN\n",
              "3487 2011-01-01  296.77   25.234161   18.629798        NaN\n",
              "\n",
              "[3488 rows x 5 columns]"
            ]
          },
          "metadata": {
            "tags": []
          },
          "execution_count": 50
        }
      ]
    },
    {
      "cell_type": "code",
      "metadata": {
        "id": "qCwNU7ULcRom",
        "colab_type": "code",
        "colab": {
          "base_uri": "https://localhost:8080/",
          "height": 649
        },
        "outputId": "b732d404-af0b-44bb-89d0-bd6e17726590"
      },
      "source": [
        "df['TMU_lag'] = df['TMU'].shift(periods=1) \n",
        "df['TEU_lag'] = df['TEU'].shift(periods=1) \n",
        "df['EUI_lag'] = df['EUI'].shift(periods=1) \n",
        "df['TMU_2lag'] = df['TMU'].shift(periods=2) \n",
        "df['TEU_2lag'] = df['TEU'].shift(periods=2) \n",
        "df['EUI_2lag'] = df['EUI'].shift(periods=2) \n",
        "\n"
      ],
      "execution_count": 155,
      "outputs": [
        {
          "output_type": "stream",
          "text": [
            "/usr/local/lib/python3.6/dist-packages/ipykernel_launcher.py:1: SettingWithCopyWarning: \n",
            "A value is trying to be set on a copy of a slice from a DataFrame.\n",
            "Try using .loc[row_indexer,col_indexer] = value instead\n",
            "\n",
            "See the caveats in the documentation: https://pandas.pydata.org/pandas-docs/stable/user_guide/indexing.html#returning-a-view-versus-a-copy\n",
            "  \"\"\"Entry point for launching an IPython kernel.\n",
            "/usr/local/lib/python3.6/dist-packages/ipykernel_launcher.py:2: SettingWithCopyWarning: \n",
            "A value is trying to be set on a copy of a slice from a DataFrame.\n",
            "Try using .loc[row_indexer,col_indexer] = value instead\n",
            "\n",
            "See the caveats in the documentation: https://pandas.pydata.org/pandas-docs/stable/user_guide/indexing.html#returning-a-view-versus-a-copy\n",
            "  \n",
            "/usr/local/lib/python3.6/dist-packages/ipykernel_launcher.py:3: SettingWithCopyWarning: \n",
            "A value is trying to be set on a copy of a slice from a DataFrame.\n",
            "Try using .loc[row_indexer,col_indexer] = value instead\n",
            "\n",
            "See the caveats in the documentation: https://pandas.pydata.org/pandas-docs/stable/user_guide/indexing.html#returning-a-view-versus-a-copy\n",
            "  This is separate from the ipykernel package so we can avoid doing imports until\n",
            "/usr/local/lib/python3.6/dist-packages/ipykernel_launcher.py:4: SettingWithCopyWarning: \n",
            "A value is trying to be set on a copy of a slice from a DataFrame.\n",
            "Try using .loc[row_indexer,col_indexer] = value instead\n",
            "\n",
            "See the caveats in the documentation: https://pandas.pydata.org/pandas-docs/stable/user_guide/indexing.html#returning-a-view-versus-a-copy\n",
            "  after removing the cwd from sys.path.\n",
            "/usr/local/lib/python3.6/dist-packages/ipykernel_launcher.py:5: SettingWithCopyWarning: \n",
            "A value is trying to be set on a copy of a slice from a DataFrame.\n",
            "Try using .loc[row_indexer,col_indexer] = value instead\n",
            "\n",
            "See the caveats in the documentation: https://pandas.pydata.org/pandas-docs/stable/user_guide/indexing.html#returning-a-view-versus-a-copy\n",
            "  \"\"\"\n",
            "/usr/local/lib/python3.6/dist-packages/ipykernel_launcher.py:6: SettingWithCopyWarning: \n",
            "A value is trying to be set on a copy of a slice from a DataFrame.\n",
            "Try using .loc[row_indexer,col_indexer] = value instead\n",
            "\n",
            "See the caveats in the documentation: https://pandas.pydata.org/pandas-docs/stable/user_guide/indexing.html#returning-a-view-versus-a-copy\n",
            "  \n"
          ],
          "name": "stderr"
        }
      ]
    },
    {
      "cell_type": "code",
      "metadata": {
        "id": "6weSZpu4cRrZ",
        "colab_type": "code",
        "colab": {}
      },
      "source": [
        "model_data = df[['Date','VIX',\t'TMU_lag',\t'TEU_lag',\t'EUI_lag', 'TMU_2lag',\t'TEU_2lag',\t'EUI_2lag']]"
      ],
      "execution_count": 156,
      "outputs": []
    },
    {
      "cell_type": "code",
      "metadata": {
        "id": "aNPHeJC3lS0X",
        "colab_type": "code",
        "colab": {
          "base_uri": "https://localhost:8080/",
          "height": 419
        },
        "outputId": "c2a3e045-3237-4f81-b3cf-be62876197ef"
      },
      "source": [
        "df"
      ],
      "execution_count": 207,
      "outputs": [
        {
          "output_type": "execute_result",
          "data": {
            "text/html": [
              "<div>\n",
              "<style scoped>\n",
              "    .dataframe tbody tr th:only-of-type {\n",
              "        vertical-align: middle;\n",
              "    }\n",
              "\n",
              "    .dataframe tbody tr th {\n",
              "        vertical-align: top;\n",
              "    }\n",
              "\n",
              "    .dataframe thead th {\n",
              "        text-align: right;\n",
              "    }\n",
              "</style>\n",
              "<table border=\"1\" class=\"dataframe\">\n",
              "  <thead>\n",
              "    <tr style=\"text-align: right;\">\n",
              "      <th></th>\n",
              "      <th>Date</th>\n",
              "      <th>EUI</th>\n",
              "      <th>TEU</th>\n",
              "      <th>TMU</th>\n",
              "      <th>VIX</th>\n",
              "      <th>TMU_lag</th>\n",
              "      <th>TEU_lag</th>\n",
              "      <th>EUI_lag</th>\n",
              "      <th>TMU_2lag</th>\n",
              "      <th>TEU_2lag</th>\n",
              "      <th>EUI_2lag</th>\n",
              "    </tr>\n",
              "  </thead>\n",
              "  <tbody>\n",
              "    <tr>\n",
              "      <th>0</th>\n",
              "      <td>2020-07-19</td>\n",
              "      <td>286.29</td>\n",
              "      <td>245.612501</td>\n",
              "      <td>280.777668</td>\n",
              "      <td>NaN</td>\n",
              "      <td>NaN</td>\n",
              "      <td>NaN</td>\n",
              "      <td>NaN</td>\n",
              "      <td>NaN</td>\n",
              "      <td>NaN</td>\n",
              "      <td>NaN</td>\n",
              "    </tr>\n",
              "    <tr>\n",
              "      <th>1</th>\n",
              "      <td>2020-07-18</td>\n",
              "      <td>87.63</td>\n",
              "      <td>312.903597</td>\n",
              "      <td>255.494370</td>\n",
              "      <td>NaN</td>\n",
              "      <td>280.777668</td>\n",
              "      <td>245.612501</td>\n",
              "      <td>286.29</td>\n",
              "      <td>NaN</td>\n",
              "      <td>NaN</td>\n",
              "      <td>NaN</td>\n",
              "    </tr>\n",
              "    <tr>\n",
              "      <th>2</th>\n",
              "      <td>2020-07-17</td>\n",
              "      <td>138.37</td>\n",
              "      <td>531.599659</td>\n",
              "      <td>585.507932</td>\n",
              "      <td>25.680000</td>\n",
              "      <td>255.494370</td>\n",
              "      <td>312.903597</td>\n",
              "      <td>87.63</td>\n",
              "      <td>280.777668</td>\n",
              "      <td>245.612501</td>\n",
              "      <td>286.29</td>\n",
              "    </tr>\n",
              "    <tr>\n",
              "      <th>3</th>\n",
              "      <td>2020-07-16</td>\n",
              "      <td>141.32</td>\n",
              "      <td>706.556509</td>\n",
              "      <td>585.507932</td>\n",
              "      <td>28.000000</td>\n",
              "      <td>585.507932</td>\n",
              "      <td>531.599659</td>\n",
              "      <td>138.37</td>\n",
              "      <td>255.494370</td>\n",
              "      <td>312.903597</td>\n",
              "      <td>87.63</td>\n",
              "    </tr>\n",
              "    <tr>\n",
              "      <th>4</th>\n",
              "      <td>2020-07-15</td>\n",
              "      <td>175.09</td>\n",
              "      <td>689.733735</td>\n",
              "      <td>601.476330</td>\n",
              "      <td>27.760000</td>\n",
              "      <td>585.507932</td>\n",
              "      <td>706.556509</td>\n",
              "      <td>141.32</td>\n",
              "      <td>585.507932</td>\n",
              "      <td>531.599659</td>\n",
              "      <td>138.37</td>\n",
              "    </tr>\n",
              "    <tr>\n",
              "      <th>...</th>\n",
              "      <td>...</td>\n",
              "      <td>...</td>\n",
              "      <td>...</td>\n",
              "      <td>...</td>\n",
              "      <td>...</td>\n",
              "      <td>...</td>\n",
              "      <td>...</td>\n",
              "      <td>...</td>\n",
              "      <td>...</td>\n",
              "      <td>...</td>\n",
              "      <td>...</td>\n",
              "    </tr>\n",
              "    <tr>\n",
              "      <th>3483</th>\n",
              "      <td>2011-01-05</td>\n",
              "      <td>6.18</td>\n",
              "      <td>30.280993</td>\n",
              "      <td>46.574495</td>\n",
              "      <td>17.020000</td>\n",
              "      <td>54.558694</td>\n",
              "      <td>52.150599</td>\n",
              "      <td>5.41</td>\n",
              "      <td>54.558694</td>\n",
              "      <td>55.515154</td>\n",
              "      <td>6.64</td>\n",
              "    </tr>\n",
              "    <tr>\n",
              "      <th>3484</th>\n",
              "      <td>2011-01-04</td>\n",
              "      <td>33.85</td>\n",
              "      <td>47.103767</td>\n",
              "      <td>62.542893</td>\n",
              "      <td>17.379999</td>\n",
              "      <td>46.574495</td>\n",
              "      <td>30.280993</td>\n",
              "      <td>6.18</td>\n",
              "      <td>54.558694</td>\n",
              "      <td>52.150599</td>\n",
              "      <td>5.41</td>\n",
              "    </tr>\n",
              "    <tr>\n",
              "      <th>3485</th>\n",
              "      <td>2011-01-03</td>\n",
              "      <td>21.97</td>\n",
              "      <td>50.468322</td>\n",
              "      <td>42.582395</td>\n",
              "      <td>17.610001</td>\n",
              "      <td>62.542893</td>\n",
              "      <td>47.103767</td>\n",
              "      <td>33.85</td>\n",
              "      <td>46.574495</td>\n",
              "      <td>30.280993</td>\n",
              "      <td>6.18</td>\n",
              "    </tr>\n",
              "    <tr>\n",
              "      <th>3486</th>\n",
              "      <td>2011-01-02</td>\n",
              "      <td>85.31</td>\n",
              "      <td>35.327825</td>\n",
              "      <td>17.299098</td>\n",
              "      <td>NaN</td>\n",
              "      <td>42.582395</td>\n",
              "      <td>50.468322</td>\n",
              "      <td>21.97</td>\n",
              "      <td>62.542893</td>\n",
              "      <td>47.103767</td>\n",
              "      <td>33.85</td>\n",
              "    </tr>\n",
              "    <tr>\n",
              "      <th>3487</th>\n",
              "      <td>2011-01-01</td>\n",
              "      <td>296.77</td>\n",
              "      <td>25.234161</td>\n",
              "      <td>18.629798</td>\n",
              "      <td>NaN</td>\n",
              "      <td>17.299098</td>\n",
              "      <td>35.327825</td>\n",
              "      <td>85.31</td>\n",
              "      <td>42.582395</td>\n",
              "      <td>50.468322</td>\n",
              "      <td>21.97</td>\n",
              "    </tr>\n",
              "  </tbody>\n",
              "</table>\n",
              "<p>3488 rows × 11 columns</p>\n",
              "</div>"
            ],
            "text/plain": [
              "           Date     EUI         TEU  ...    TMU_2lag    TEU_2lag  EUI_2lag\n",
              "0    2020-07-19  286.29  245.612501  ...         NaN         NaN       NaN\n",
              "1    2020-07-18   87.63  312.903597  ...         NaN         NaN       NaN\n",
              "2    2020-07-17  138.37  531.599659  ...  280.777668  245.612501    286.29\n",
              "3    2020-07-16  141.32  706.556509  ...  255.494370  312.903597     87.63\n",
              "4    2020-07-15  175.09  689.733735  ...  585.507932  531.599659    138.37\n",
              "...         ...     ...         ...  ...         ...         ...       ...\n",
              "3483 2011-01-05    6.18   30.280993  ...   54.558694   55.515154      6.64\n",
              "3484 2011-01-04   33.85   47.103767  ...   54.558694   52.150599      5.41\n",
              "3485 2011-01-03   21.97   50.468322  ...   46.574495   30.280993      6.18\n",
              "3486 2011-01-02   85.31   35.327825  ...   62.542893   47.103767     33.85\n",
              "3487 2011-01-01  296.77   25.234161  ...   42.582395   50.468322     21.97\n",
              "\n",
              "[3488 rows x 11 columns]"
            ]
          },
          "metadata": {
            "tags": []
          },
          "execution_count": 207
        }
      ]
    },
    {
      "cell_type": "markdown",
      "metadata": {
        "id": "EsIWuqAQOWF7",
        "colab_type": "text"
      },
      "source": [
        ""
      ]
    },
    {
      "cell_type": "code",
      "metadata": {
        "id": "-4MnQuDycRuR",
        "colab_type": "code",
        "colab": {
          "base_uri": "https://localhost:8080/",
          "height": 309
        },
        "outputId": "142fa074-9517-423d-f7d9-5078e6c0874e"
      },
      "source": [
        "model_data.dropna(inplace = True)\n",
        "model_data['VIX_lag']= model_data[['VIX']].shift(periods=1) \n",
        "model_data.dropna(inplace = True)"
      ],
      "execution_count": 166,
      "outputs": [
        {
          "output_type": "stream",
          "text": [
            "/usr/local/lib/python3.6/dist-packages/ipykernel_launcher.py:1: SettingWithCopyWarning: \n",
            "A value is trying to be set on a copy of a slice from a DataFrame\n",
            "\n",
            "See the caveats in the documentation: https://pandas.pydata.org/pandas-docs/stable/user_guide/indexing.html#returning-a-view-versus-a-copy\n",
            "  \"\"\"Entry point for launching an IPython kernel.\n",
            "/usr/local/lib/python3.6/dist-packages/ipykernel_launcher.py:2: SettingWithCopyWarning: \n",
            "A value is trying to be set on a copy of a slice from a DataFrame.\n",
            "Try using .loc[row_indexer,col_indexer] = value instead\n",
            "\n",
            "See the caveats in the documentation: https://pandas.pydata.org/pandas-docs/stable/user_guide/indexing.html#returning-a-view-versus-a-copy\n",
            "  \n",
            "/usr/local/lib/python3.6/dist-packages/ipykernel_launcher.py:3: SettingWithCopyWarning: \n",
            "A value is trying to be set on a copy of a slice from a DataFrame\n",
            "\n",
            "See the caveats in the documentation: https://pandas.pydata.org/pandas-docs/stable/user_guide/indexing.html#returning-a-view-versus-a-copy\n",
            "  This is separate from the ipykernel package so we can avoid doing imports until\n"
          ],
          "name": "stderr"
        }
      ]
    },
    {
      "cell_type": "code",
      "metadata": {
        "id": "DD8j-pzn5VHb",
        "colab_type": "code",
        "colab": {
          "base_uri": "https://localhost:8080/",
          "height": 609
        },
        "outputId": "33c7d33a-9266-4044-a376-fed8a2560f0b"
      },
      "source": [
        "joint = model_data\n",
        "joint.sort_values(by=['Date'], ascending=True, inplace = True, ignore_index = True)\n",
        "joint.dropna(inplace = True)\n",
        "joint"
      ],
      "execution_count": 167,
      "outputs": [
        {
          "output_type": "stream",
          "text": [
            "/usr/local/lib/python3.6/dist-packages/ipykernel_launcher.py:2: SettingWithCopyWarning: \n",
            "A value is trying to be set on a copy of a slice from a DataFrame\n",
            "\n",
            "See the caveats in the documentation: https://pandas.pydata.org/pandas-docs/stable/user_guide/indexing.html#returning-a-view-versus-a-copy\n",
            "  \n",
            "/usr/local/lib/python3.6/dist-packages/ipykernel_launcher.py:3: SettingWithCopyWarning: \n",
            "A value is trying to be set on a copy of a slice from a DataFrame\n",
            "\n",
            "See the caveats in the documentation: https://pandas.pydata.org/pandas-docs/stable/user_guide/indexing.html#returning-a-view-versus-a-copy\n",
            "  This is separate from the ipykernel package so we can avoid doing imports until\n"
          ],
          "name": "stderr"
        },
        {
          "output_type": "execute_result",
          "data": {
            "text/html": [
              "<div>\n",
              "<style scoped>\n",
              "    .dataframe tbody tr th:only-of-type {\n",
              "        vertical-align: middle;\n",
              "    }\n",
              "\n",
              "    .dataframe tbody tr th {\n",
              "        vertical-align: top;\n",
              "    }\n",
              "\n",
              "    .dataframe thead th {\n",
              "        text-align: right;\n",
              "    }\n",
              "</style>\n",
              "<table border=\"1\" class=\"dataframe\">\n",
              "  <thead>\n",
              "    <tr style=\"text-align: right;\">\n",
              "      <th></th>\n",
              "      <th>Date</th>\n",
              "      <th>VIX</th>\n",
              "      <th>TMU_lag</th>\n",
              "      <th>TEU_lag</th>\n",
              "      <th>EUI_lag</th>\n",
              "      <th>TMU_2lag</th>\n",
              "      <th>TEU_2lag</th>\n",
              "      <th>EUI_2lag</th>\n",
              "      <th>VIX_lag</th>\n",
              "    </tr>\n",
              "  </thead>\n",
              "  <tbody>\n",
              "    <tr>\n",
              "      <th>0</th>\n",
              "      <td>2011-01-04</td>\n",
              "      <td>17.379999</td>\n",
              "      <td>46.574495</td>\n",
              "      <td>30.280993</td>\n",
              "      <td>6.18</td>\n",
              "      <td>54.558694</td>\n",
              "      <td>52.150599</td>\n",
              "      <td>5.41</td>\n",
              "      <td>17.610001</td>\n",
              "    </tr>\n",
              "    <tr>\n",
              "      <th>1</th>\n",
              "      <td>2011-01-05</td>\n",
              "      <td>17.020000</td>\n",
              "      <td>54.558694</td>\n",
              "      <td>52.150599</td>\n",
              "      <td>5.41</td>\n",
              "      <td>54.558694</td>\n",
              "      <td>55.515154</td>\n",
              "      <td>6.64</td>\n",
              "      <td>17.379999</td>\n",
              "    </tr>\n",
              "    <tr>\n",
              "      <th>2</th>\n",
              "      <td>2011-01-06</td>\n",
              "      <td>17.400000</td>\n",
              "      <td>54.558694</td>\n",
              "      <td>55.515154</td>\n",
              "      <td>6.64</td>\n",
              "      <td>31.936796</td>\n",
              "      <td>25.234161</td>\n",
              "      <td>39.36</td>\n",
              "      <td>17.020000</td>\n",
              "    </tr>\n",
              "    <tr>\n",
              "      <th>3</th>\n",
              "      <td>2011-01-07</td>\n",
              "      <td>17.139999</td>\n",
              "      <td>31.936796</td>\n",
              "      <td>25.234161</td>\n",
              "      <td>39.36</td>\n",
              "      <td>30.606096</td>\n",
              "      <td>23.551884</td>\n",
              "      <td>42.02</td>\n",
              "      <td>17.400000</td>\n",
              "    </tr>\n",
              "    <tr>\n",
              "      <th>4</th>\n",
              "      <td>2011-01-10</td>\n",
              "      <td>17.540001</td>\n",
              "      <td>59.881493</td>\n",
              "      <td>95.889812</td>\n",
              "      <td>7.89</td>\n",
              "      <td>35.928896</td>\n",
              "      <td>37.010103</td>\n",
              "      <td>37.62</td>\n",
              "      <td>17.139999</td>\n",
              "    </tr>\n",
              "    <tr>\n",
              "      <th>...</th>\n",
              "      <td>...</td>\n",
              "      <td>...</td>\n",
              "      <td>...</td>\n",
              "      <td>...</td>\n",
              "      <td>...</td>\n",
              "      <td>...</td>\n",
              "      <td>...</td>\n",
              "      <td>...</td>\n",
              "      <td>...</td>\n",
              "    </tr>\n",
              "    <tr>\n",
              "      <th>2395</th>\n",
              "      <td>2020-07-13</td>\n",
              "      <td>32.189999</td>\n",
              "      <td>646.720125</td>\n",
              "      <td>615.713530</td>\n",
              "      <td>71.09</td>\n",
              "      <td>601.476330</td>\n",
              "      <td>689.733735</td>\n",
              "      <td>175.09</td>\n",
              "      <td>27.290001</td>\n",
              "    </tr>\n",
              "    <tr>\n",
              "      <th>2396</th>\n",
              "      <td>2020-07-14</td>\n",
              "      <td>29.520000</td>\n",
              "      <td>601.476330</td>\n",
              "      <td>689.733735</td>\n",
              "      <td>175.09</td>\n",
              "      <td>585.507932</td>\n",
              "      <td>706.556509</td>\n",
              "      <td>141.32</td>\n",
              "      <td>32.189999</td>\n",
              "    </tr>\n",
              "    <tr>\n",
              "      <th>2397</th>\n",
              "      <td>2020-07-15</td>\n",
              "      <td>27.760000</td>\n",
              "      <td>585.507932</td>\n",
              "      <td>706.556509</td>\n",
              "      <td>141.32</td>\n",
              "      <td>585.507932</td>\n",
              "      <td>531.599659</td>\n",
              "      <td>138.37</td>\n",
              "      <td>29.520000</td>\n",
              "    </tr>\n",
              "    <tr>\n",
              "      <th>2398</th>\n",
              "      <td>2020-07-16</td>\n",
              "      <td>28.000000</td>\n",
              "      <td>585.507932</td>\n",
              "      <td>531.599659</td>\n",
              "      <td>138.37</td>\n",
              "      <td>255.494370</td>\n",
              "      <td>312.903597</td>\n",
              "      <td>87.63</td>\n",
              "      <td>27.760000</td>\n",
              "    </tr>\n",
              "    <tr>\n",
              "      <th>2399</th>\n",
              "      <td>2020-07-17</td>\n",
              "      <td>25.680000</td>\n",
              "      <td>255.494370</td>\n",
              "      <td>312.903597</td>\n",
              "      <td>87.63</td>\n",
              "      <td>280.777668</td>\n",
              "      <td>245.612501</td>\n",
              "      <td>286.29</td>\n",
              "      <td>28.000000</td>\n",
              "    </tr>\n",
              "  </tbody>\n",
              "</table>\n",
              "<p>2400 rows × 9 columns</p>\n",
              "</div>"
            ],
            "text/plain": [
              "           Date        VIX     TMU_lag  ...    TEU_2lag  EUI_2lag    VIX_lag\n",
              "0    2011-01-04  17.379999   46.574495  ...   52.150599      5.41  17.610001\n",
              "1    2011-01-05  17.020000   54.558694  ...   55.515154      6.64  17.379999\n",
              "2    2011-01-06  17.400000   54.558694  ...   25.234161     39.36  17.020000\n",
              "3    2011-01-07  17.139999   31.936796  ...   23.551884     42.02  17.400000\n",
              "4    2011-01-10  17.540001   59.881493  ...   37.010103     37.62  17.139999\n",
              "...         ...        ...         ...  ...         ...       ...        ...\n",
              "2395 2020-07-13  32.189999  646.720125  ...  689.733735    175.09  27.290001\n",
              "2396 2020-07-14  29.520000  601.476330  ...  706.556509    141.32  32.189999\n",
              "2397 2020-07-15  27.760000  585.507932  ...  531.599659    138.37  29.520000\n",
              "2398 2020-07-16  28.000000  585.507932  ...  312.903597     87.63  27.760000\n",
              "2399 2020-07-17  25.680000  255.494370  ...  245.612501    286.29  28.000000\n",
              "\n",
              "[2400 rows x 9 columns]"
            ]
          },
          "metadata": {
            "tags": []
          },
          "execution_count": 167
        }
      ]
    },
    {
      "cell_type": "markdown",
      "metadata": {
        "id": "X75jRqwebYgh",
        "colab_type": "text"
      },
      "source": [
        "Split data into train-test"
      ]
    },
    {
      "cell_type": "code",
      "metadata": {
        "id": "jApAn-PMbiAv",
        "colab_type": "code",
        "colab": {}
      },
      "source": [
        "lenght = joint.shape[0]\n",
        "share = 0.97\n",
        "train = joint.loc[0:int(lenght*share)]\n",
        "test = joint.loc[int(lenght*share)+1:]\n"
      ],
      "execution_count": 168,
      "outputs": []
    },
    {
      "cell_type": "code",
      "metadata": {
        "id": "uIcQ8P-HcRw-",
        "colab_type": "code",
        "colab": {
          "base_uri": "https://localhost:8080/",
          "height": 34
        },
        "outputId": "2a47c3a9-2a7b-4ddb-be98-ece7cab2ddbd"
      },
      "source": [
        "from sklearn.linear_model import LinearRegression\n",
        "# Create linear regression object\n",
        "regr = linear_model.LinearRegression()\n",
        "features = ['VIX_lag', 'EUI_lag', 'TMU_2lag'] \n",
        "#features = ['TMU_2lag', 'TEU_lag', 'TMU_lag'] \n",
        "x = train[features]\n",
        "y = train[['VIX']]\n",
        "# Train the model using the training sets\n",
        "regr.fit(x, y)\n",
        "regr.score(x, y)\n",
        "regr.coef_\n",
        "regr.score(test[features], test[['VIX']])\n",
        "#test['vix_predict'] = regr.predict(test[features])"
      ],
      "execution_count": 220,
      "outputs": [
        {
          "output_type": "execute_result",
          "data": {
            "text/plain": [
              "0.7514265896562975"
            ]
          },
          "metadata": {
            "tags": []
          },
          "execution_count": 220
        }
      ]
    },
    {
      "cell_type": "code",
      "metadata": {
        "id": "QMfn9YEVf5La",
        "colab_type": "code",
        "colab": {
          "base_uri": "https://localhost:8080/",
          "height": 419
        },
        "outputId": "961bdb16-fc8f-4b2c-a948-bbf9f363363e"
      },
      "source": [
        "test"
      ],
      "execution_count": 214,
      "outputs": [
        {
          "output_type": "execute_result",
          "data": {
            "text/html": [
              "<div>\n",
              "<style scoped>\n",
              "    .dataframe tbody tr th:only-of-type {\n",
              "        vertical-align: middle;\n",
              "    }\n",
              "\n",
              "    .dataframe tbody tr th {\n",
              "        vertical-align: top;\n",
              "    }\n",
              "\n",
              "    .dataframe thead th {\n",
              "        text-align: right;\n",
              "    }\n",
              "</style>\n",
              "<table border=\"1\" class=\"dataframe\">\n",
              "  <thead>\n",
              "    <tr style=\"text-align: right;\">\n",
              "      <th></th>\n",
              "      <th>Date</th>\n",
              "      <th>VIX</th>\n",
              "      <th>TMU_lag</th>\n",
              "      <th>TEU_lag</th>\n",
              "      <th>EUI_lag</th>\n",
              "      <th>TMU_2lag</th>\n",
              "      <th>TEU_2lag</th>\n",
              "      <th>EUI_2lag</th>\n",
              "      <th>VIX_lag</th>\n",
              "      <th>vix_predict</th>\n",
              "    </tr>\n",
              "  </thead>\n",
              "  <tbody>\n",
              "    <tr>\n",
              "      <th>2329</th>\n",
              "      <td>2020-04-07</td>\n",
              "      <td>46.700001</td>\n",
              "      <td>1099.158073</td>\n",
              "      <td>868.055140</td>\n",
              "      <td>285.79</td>\n",
              "      <td>1068.551976</td>\n",
              "      <td>1011.048719</td>\n",
              "      <td>203.41</td>\n",
              "      <td>45.240002</td>\n",
              "      <td>44.745281</td>\n",
              "    </tr>\n",
              "    <tr>\n",
              "      <th>2330</th>\n",
              "      <td>2020-04-08</td>\n",
              "      <td>43.349998</td>\n",
              "      <td>1068.551976</td>\n",
              "      <td>1011.048719</td>\n",
              "      <td>203.41</td>\n",
              "      <td>777.128710</td>\n",
              "      <td>669.546406</td>\n",
              "      <td>330.69</td>\n",
              "      <td>46.700001</td>\n",
              "      <td>45.402287</td>\n",
              "    </tr>\n",
              "    <tr>\n",
              "      <th>2331</th>\n",
              "      <td>2020-04-09</td>\n",
              "      <td>41.669998</td>\n",
              "      <td>777.128710</td>\n",
              "      <td>669.546406</td>\n",
              "      <td>330.69</td>\n",
              "      <td>436.469550</td>\n",
              "      <td>471.037673</td>\n",
              "      <td>376.38</td>\n",
              "      <td>43.349998</td>\n",
              "      <td>43.096230</td>\n",
              "    </tr>\n",
              "    <tr>\n",
              "      <th>2332</th>\n",
              "      <td>2020-04-13</td>\n",
              "      <td>41.169998</td>\n",
              "      <td>1021.977482</td>\n",
              "      <td>931.981681</td>\n",
              "      <td>178.24</td>\n",
              "      <td>1048.591479</td>\n",
              "      <td>1016.095552</td>\n",
              "      <td>179.98</td>\n",
              "      <td>41.669998</td>\n",
              "      <td>40.711452</td>\n",
              "    </tr>\n",
              "    <tr>\n",
              "      <th>2333</th>\n",
              "      <td>2020-04-14</td>\n",
              "      <td>37.759998</td>\n",
              "      <td>1048.591479</td>\n",
              "      <td>1016.095552</td>\n",
              "      <td>179.98</td>\n",
              "      <td>1088.512474</td>\n",
              "      <td>1017.777829</td>\n",
              "      <td>173.10</td>\n",
              "      <td>41.169998</td>\n",
              "      <td>40.265007</td>\n",
              "    </tr>\n",
              "    <tr>\n",
              "      <th>...</th>\n",
              "      <td>...</td>\n",
              "      <td>...</td>\n",
              "      <td>...</td>\n",
              "      <td>...</td>\n",
              "      <td>...</td>\n",
              "      <td>...</td>\n",
              "      <td>...</td>\n",
              "      <td>...</td>\n",
              "      <td>...</td>\n",
              "      <td>...</td>\n",
              "    </tr>\n",
              "    <tr>\n",
              "      <th>2395</th>\n",
              "      <td>2020-07-13</td>\n",
              "      <td>32.189999</td>\n",
              "      <td>646.720125</td>\n",
              "      <td>615.713530</td>\n",
              "      <td>71.09</td>\n",
              "      <td>601.476330</td>\n",
              "      <td>689.733735</td>\n",
              "      <td>175.09</td>\n",
              "      <td>27.290001</td>\n",
              "      <td>26.584738</td>\n",
              "    </tr>\n",
              "    <tr>\n",
              "      <th>2396</th>\n",
              "      <td>2020-07-14</td>\n",
              "      <td>29.520000</td>\n",
              "      <td>601.476330</td>\n",
              "      <td>689.733735</td>\n",
              "      <td>175.09</td>\n",
              "      <td>585.507932</td>\n",
              "      <td>706.556509</td>\n",
              "      <td>141.32</td>\n",
              "      <td>32.189999</td>\n",
              "      <td>31.897920</td>\n",
              "    </tr>\n",
              "    <tr>\n",
              "      <th>2397</th>\n",
              "      <td>2020-07-15</td>\n",
              "      <td>27.760000</td>\n",
              "      <td>585.507932</td>\n",
              "      <td>706.556509</td>\n",
              "      <td>141.32</td>\n",
              "      <td>585.507932</td>\n",
              "      <td>531.599659</td>\n",
              "      <td>138.37</td>\n",
              "      <td>29.520000</td>\n",
              "      <td>29.182694</td>\n",
              "    </tr>\n",
              "    <tr>\n",
              "      <th>2398</th>\n",
              "      <td>2020-07-16</td>\n",
              "      <td>28.000000</td>\n",
              "      <td>585.507932</td>\n",
              "      <td>531.599659</td>\n",
              "      <td>138.37</td>\n",
              "      <td>255.494370</td>\n",
              "      <td>312.903597</td>\n",
              "      <td>87.63</td>\n",
              "      <td>27.760000</td>\n",
              "      <td>27.579046</td>\n",
              "    </tr>\n",
              "    <tr>\n",
              "      <th>2399</th>\n",
              "      <td>2020-07-17</td>\n",
              "      <td>25.680000</td>\n",
              "      <td>255.494370</td>\n",
              "      <td>312.903597</td>\n",
              "      <td>87.63</td>\n",
              "      <td>280.777668</td>\n",
              "      <td>245.612501</td>\n",
              "      <td>286.29</td>\n",
              "      <td>28.000000</td>\n",
              "      <td>27.234747</td>\n",
              "    </tr>\n",
              "  </tbody>\n",
              "</table>\n",
              "<p>71 rows × 10 columns</p>\n",
              "</div>"
            ],
            "text/plain": [
              "           Date        VIX      TMU_lag  ...  EUI_2lag    VIX_lag  vix_predict\n",
              "2329 2020-04-07  46.700001  1099.158073  ...    203.41  45.240002    44.745281\n",
              "2330 2020-04-08  43.349998  1068.551976  ...    330.69  46.700001    45.402287\n",
              "2331 2020-04-09  41.669998   777.128710  ...    376.38  43.349998    43.096230\n",
              "2332 2020-04-13  41.169998  1021.977482  ...    179.98  41.669998    40.711452\n",
              "2333 2020-04-14  37.759998  1048.591479  ...    173.10  41.169998    40.265007\n",
              "...         ...        ...          ...  ...       ...        ...          ...\n",
              "2395 2020-07-13  32.189999   646.720125  ...    175.09  27.290001    26.584738\n",
              "2396 2020-07-14  29.520000   601.476330  ...    141.32  32.189999    31.897920\n",
              "2397 2020-07-15  27.760000   585.507932  ...    138.37  29.520000    29.182694\n",
              "2398 2020-07-16  28.000000   585.507932  ...     87.63  27.760000    27.579046\n",
              "2399 2020-07-17  25.680000   255.494370  ...    286.29  28.000000    27.234747\n",
              "\n",
              "[71 rows x 10 columns]"
            ]
          },
          "metadata": {
            "tags": []
          },
          "execution_count": 214
        }
      ]
    },
    {
      "cell_type": "code",
      "metadata": {
        "id": "cDME2N1DfnsT",
        "colab_type": "code",
        "colab": {
          "base_uri": "https://localhost:8080/",
          "height": 282
        },
        "outputId": "c1c5faff-1bff-41c3-d720-50abc7a87978"
      },
      "source": [
        "plt.plot(test['vix_predict'], color = 'r')\n",
        "plt.plot(test['VIX'],  color = 'b')"
      ],
      "execution_count": 221,
      "outputs": [
        {
          "output_type": "execute_result",
          "data": {
            "text/plain": [
              "[<matplotlib.lines.Line2D at 0x7fcc79f7cc88>]"
            ]
          },
          "metadata": {
            "tags": []
          },
          "execution_count": 221
        },
        {
          "output_type": "display_data",
          "data": {
            "image/png": "[encoded data removed]",
            "text/plain": [
              "<Figure size 432x288 with 1 Axes>"
            ]
          },
          "metadata": {
            "tags": [],
            "needs_background": "light"
          }
        }
      ]
    },
    {
      "cell_type": "code",
      "metadata": {
        "id": "gkdCez4cRPaK",
        "colab_type": "code",
        "colab": {
          "base_uri": "https://localhost:8080/",
          "height": 459
        },
        "outputId": "b816fdd4-bf9d-49de-8bfa-5f658f6beefe"
      },
      "source": [
        "import statsmodels.api as sm\n",
        "X = sm.add_constant(x)\n",
        "model = sm.OLS(y, X)\n",
        "results = model.fit()\n",
        "print(results.summary())"
      ],
      "execution_count": 219,
      "outputs": [
        {
          "output_type": "stream",
          "text": [
            "                            OLS Regression Results                            \n",
            "==============================================================================\n",
            "Dep. Variable:                    VIX   R-squared:                       0.931\n",
            "Model:                            OLS   Adj. R-squared:                  0.931\n",
            "Method:                 Least Squares   F-statistic:                 1.580e+04\n",
            "Date:                Thu, 23 Jul 2020   Prob (F-statistic):               0.00\n",
            "Time:                        21:42:34   Log-Likelihood:                -4693.0\n",
            "No. Observations:                2329   AIC:                             9392.\n",
            "Df Residuals:                    2326   BIC:                             9409.\n",
            "Df Model:                           2                                         \n",
            "Covariance Type:            nonrobust                                         \n",
            "==============================================================================\n",
            "                 coef    std err          t      P>|t|      [0.025      0.975]\n",
            "------------------------------------------------------------------------------\n",
            "const          0.5265      0.098      5.352      0.000       0.334       0.719\n",
            "VIX_lag        0.9521      0.006    161.140      0.000       0.941       0.964\n",
            "TMU_2lag       0.0017      0.000      6.906      0.000       0.001       0.002\n",
            "==============================================================================\n",
            "Omnibus:                     1869.843   Durbin-Watson:                   2.339\n",
            "Prob(Omnibus):                  0.000   Jarque-Bera (JB):           157763.865\n",
            "Skew:                           3.196   Prob(JB):                         0.00\n",
            "Kurtosis:                      42.810   Cond. No.                         603.\n",
            "==============================================================================\n",
            "\n",
            "Warnings:\n",
            "[1] Standard Errors assume that the covariance matrix of the errors is correctly specified.\n"
          ],
          "name": "stdout"
        }
      ]
    },
    {
      "cell_type": "code",
      "metadata": {
        "id": "JpEVGatPcRzv",
        "colab_type": "code",
        "colab": {
          "base_uri": "https://localhost:8080/",
          "height": 51
        },
        "outputId": "543a9e60-5af0-40b5-a628-f1d49cffb933"
      },
      "source": [
        " model_data[['VIX']].shift"
      ],
      "execution_count": 68,
      "outputs": [
        {
          "output_type": "execute_result",
          "data": {
            "text/plain": [
              "array([         nan, 280.77766754, 255.49437047, ...,  62.54289277,\n",
              "        42.58239508,  17.299098  ])"
            ]
          },
          "metadata": {
            "tags": []
          },
          "execution_count": 68
        }
      ]
    },
    {
      "cell_type": "code",
      "metadata": {
        "id": "3O0gHCCCkC87",
        "colab_type": "code",
        "colab": {}
      },
      "source": [
        ""
      ],
      "execution_count": null,
      "outputs": []
    },
    {
      "cell_type": "code",
      "metadata": {
        "id": "GvcrlvrGcR2X",
        "colab_type": "code",
        "colab": {
          "base_uri": "https://localhost:8080/",
          "height": 34
        },
        "outputId": "e9e0035b-a492-428f-ed3c-5a78d0322e9e"
      },
      "source": [
        "# Create linear regression object\n",
        "regr = linear_model.LinearRegression()\n",
        "\n",
        "# Train the model using the training sets\n",
        "regr.fit(model_data[['TMU_lag']], model_data[['VIX']])"
      ],
      "execution_count": 83,
      "outputs": [
        {
          "output_type": "execute_result",
          "data": {
            "text/plain": [
              "LinearRegression(copy_X=True, fit_intercept=True, n_jobs=None, normalize=False)"
            ]
          },
          "metadata": {
            "tags": []
          },
          "execution_count": 83
        }
      ]
    },
    {
      "cell_type": "code",
      "metadata": {
        "id": "8Zs-ajnW3caw",
        "colab_type": "code",
        "colab": {
          "base_uri": "https://localhost:8080/",
          "height": 419
        },
        "outputId": "b5ba7e3a-183d-4569-e556-19727ab8fd93"
      },
      "source": [
        "model_data[['TMU_lag']]"
      ],
      "execution_count": 81,
      "outputs": [
        {
          "output_type": "execute_result",
          "data": {
            "text/html": [
              "<div>\n",
              "<style scoped>\n",
              "    .dataframe tbody tr th:only-of-type {\n",
              "        vertical-align: middle;\n",
              "    }\n",
              "\n",
              "    .dataframe tbody tr th {\n",
              "        vertical-align: top;\n",
              "    }\n",
              "\n",
              "    .dataframe thead th {\n",
              "        text-align: right;\n",
              "    }\n",
              "</style>\n",
              "<table border=\"1\" class=\"dataframe\">\n",
              "  <thead>\n",
              "    <tr style=\"text-align: right;\">\n",
              "      <th></th>\n",
              "      <th>TMU_lag</th>\n",
              "    </tr>\n",
              "  </thead>\n",
              "  <tbody>\n",
              "    <tr>\n",
              "      <th>2</th>\n",
              "      <td>255.494370</td>\n",
              "    </tr>\n",
              "    <tr>\n",
              "      <th>3</th>\n",
              "      <td>585.507932</td>\n",
              "    </tr>\n",
              "    <tr>\n",
              "      <th>4</th>\n",
              "      <td>585.507932</td>\n",
              "    </tr>\n",
              "    <tr>\n",
              "      <th>5</th>\n",
              "      <td>601.476330</td>\n",
              "    </tr>\n",
              "    <tr>\n",
              "      <th>6</th>\n",
              "      <td>646.720125</td>\n",
              "    </tr>\n",
              "    <tr>\n",
              "      <th>...</th>\n",
              "      <td>...</td>\n",
              "    </tr>\n",
              "    <tr>\n",
              "      <th>3481</th>\n",
              "      <td>31.936796</td>\n",
              "    </tr>\n",
              "    <tr>\n",
              "      <th>3482</th>\n",
              "      <td>54.558694</td>\n",
              "    </tr>\n",
              "    <tr>\n",
              "      <th>3483</th>\n",
              "      <td>54.558694</td>\n",
              "    </tr>\n",
              "    <tr>\n",
              "      <th>3484</th>\n",
              "      <td>46.574495</td>\n",
              "    </tr>\n",
              "    <tr>\n",
              "      <th>3485</th>\n",
              "      <td>62.542893</td>\n",
              "    </tr>\n",
              "  </tbody>\n",
              "</table>\n",
              "<p>2401 rows × 1 columns</p>\n",
              "</div>"
            ],
            "text/plain": [
              "         TMU_lag\n",
              "2     255.494370\n",
              "3     585.507932\n",
              "4     585.507932\n",
              "5     601.476330\n",
              "6     646.720125\n",
              "...          ...\n",
              "3481   31.936796\n",
              "3482   54.558694\n",
              "3483   54.558694\n",
              "3484   46.574495\n",
              "3485   62.542893\n",
              "\n",
              "[2401 rows x 1 columns]"
            ]
          },
          "metadata": {
            "tags": []
          },
          "execution_count": 81
        }
      ]
    },
    {
      "cell_type": "code",
      "metadata": {
        "id": "cWVsjCrp5fUF",
        "colab_type": "code",
        "colab": {
          "base_uri": "https://localhost:8080/",
          "height": 139
        },
        "outputId": "e0598b63-616e-4007-b0c5-b203b182bb14"
      },
      "source": [
        "model_data['VIX_lag']= model_data[['VIX']].shift(periods=1) "
      ],
      "execution_count": 91,
      "outputs": [
        {
          "output_type": "stream",
          "text": [
            "/usr/local/lib/python3.6/dist-packages/ipykernel_launcher.py:1: SettingWithCopyWarning: \n",
            "A value is trying to be set on a copy of a slice from a DataFrame.\n",
            "Try using .loc[row_indexer,col_indexer] = value instead\n",
            "\n",
            "See the caveats in the documentation: https://pandas.pydata.org/pandas-docs/stable/user_guide/indexing.html#returning-a-view-versus-a-copy\n",
            "  \"\"\"Entry point for launching an IPython kernel.\n"
          ],
          "name": "stderr"
        }
      ]
    },
    {
      "cell_type": "markdown",
      "metadata": {
        "id": "YU3ytuLOORHT",
        "colab_type": "text"
      },
      "source": [
        "Examine Distribution in Different regimes"
      ]
    },
    {
      "cell_type": "code",
      "metadata": {
        "id": "f4StJqxUUzPd",
        "colab_type": "code",
        "colab": {
          "base_uri": "https://localhost:8080/",
          "height": 34
        },
        "outputId": "cadff4b4-50ce-4de0-9cef-90977b1e351d"
      },
      "source": [
        "len(strategy_list)"
      ],
      "execution_count": null,
      "outputs": [
        {
          "output_type": "execute_result",
          "data": {
            "text/plain": [
              "8"
            ]
          },
          "metadata": {
            "tags": []
          },
          "execution_count": 31
        }
      ]
    },
    {
      "cell_type": "markdown",
      "metadata": {
        "id": "7JBIyGRJb_M8",
        "colab_type": "text"
      },
      "source": [
        "Plot distribution in diffrent regimes\n",
        "\n",
        "```\n",
        "`# This is formatted as code`\n",
        "```\n",
        "\n"
      ]
    },
    {
      "cell_type": "code",
      "metadata": {
        "id": "awjXUHDyRFnU",
        "colab_type": "code",
        "colab": {
          "base_uri": "https://localhost:8080/",
          "height": 1000
        },
        "outputId": "f1695394-18eb-4ff7-8194-492b1a60127b"
      },
      "source": [
        "len1= 2\n",
        "len2 = len(strategy_list)\n",
        "\n",
        "\n",
        "# plot distribution of the portfolio conditional on view\n",
        "%matplotlib inline\n",
        "fig = plt.figure(figsize=(15,30))\n",
        "\n",
        "i = 1\n",
        "\n",
        "for item in strategy_list:\n",
        "  plt.subplot(len2, len1, i)\n",
        "  _ = plt.hist(df[item].loc[df['VIX']>high_vix], density = True, bins = 100, facecolor='red', alpha=0.6)\n",
        "  _ = plt.hist(df[item].loc[df['VIX']<low_vix], density = True , bins = 100, facecolor ='g', alpha=0.5)\n",
        "  plt.xticks(fontsize=10)\n",
        "  plt.yticks(fontsize=10)\n",
        "  plt.xlabel('Return, %',fontsize = 10)\n",
        "  plt.ylabel('Probability',fontsize = 10)\n",
        "  plt.title(item,fontsize = 10)\n",
        "  plt.legend(['High VIX: mean='+str(np.round(df[item].loc[df['VIX']>high_vix].mean(),2))+', '+\\\n",
        "            'st dev:'+str(np.round(df[item].loc[df['VIX']>high_vix].std(),2)),\n",
        "           'Low VIX: mean='+str(np.round(df[item].loc[df['VIX']<low_vix].mean(),2))+', '+\\\n",
        "            'st dev:'+str(np.round(df[item].loc[df['VIX']<low_vix].std(),2))], fontsize = 14)\n",
        "  i+=1\n",
        "fig.tight_layout()\n",
        "fig.show()"
      ],
      "execution_count": null,
      "outputs": [
        {
          "output_type": "display_data",
          "data": {
            "image/png": "[encoded data removed]",
            "text/plain": [
              "<Figure size 1080x2160 with 8 Axes>"
            ]
          },
          "metadata": {
            "tags": [],
            "needs_background": "light"
          }
        }
      ]
    },
    {
      "cell_type": "code",
      "metadata": {
        "id": "2E6EdSoEin7j",
        "colab_type": "code",
        "colab": {
          "base_uri": "https://localhost:8080/",
          "height": 1000
        },
        "outputId": "106fd6b6-5986-4b09-8e67-160c0de149d7"
      },
      "source": [
        "len1= 2\n",
        "len2 = len(strategy_list)\n",
        "import seaborn as sns\n",
        "\n",
        "# plot distribution of the portfolio conditional on view\n",
        "%matplotlib inline\n",
        "fig = plt.figure(figsize=(15,30))\n",
        "#fig, axes =plt.subplots(len2,len1)\n",
        "#fig, ax = plt.subplots(figsize=(10,8))\n",
        "i = 1\n",
        "\n",
        "for item in strategy_list:\n",
        "  plt.subplot(len2, len1, i)\n",
        "  #fig, ax = plt.subplots(figsize=(10,8))\n",
        "  #_ = plt.hist(df[item].loc[df['VIX']>high_vix], density = True, bins = 20, facecolor='red', alpha=0.6)\n",
        "  #_ = plt.hist(df[item].loc[df['VIX']<low_vix], density = True , bins = 20, facecolor ='g', alpha=0.5)\n",
        "\n",
        "  #sns.boxplot(  y=t, x= \"a\", data=df,  orient='v',ax=axes[i % 2] ,  palette= flatui)\n",
        "  sns.distplot(df[item].loc[df['VIX']>high_vix], hist=False, rug=False, color='red', label='High VIX');\n",
        "  sns.distplot(df[item].loc[df['VIX']<low_vix], hist=False, rug=False, color ='g',label = 'Low VIX' );\n",
        "  sns.distplot(df[item].loc[(df['VIX']>low_vix)& (df['VIX']<high_vix) ], hist=False, rug=False, color ='b',label = 'medium VIX' );\n",
        "\n",
        "  plt.xticks(fontsize=10)\n",
        "  plt.yticks(fontsize=10)\n",
        "  plt.xlabel('Return, %',fontsize = 10)\n",
        "  plt.ylabel('Probability',fontsize = 10)\n",
        "  plt.title(item,fontsize = 10)\n",
        "  #plt.legend(['High VIX: mean='+str(np.round(df[item].loc[df['VIX']>high_vix].mean(),2))+', '+\\\n",
        "       #     'st dev:'+str(np.round(df[item].loc[df['VIX']>high_vix].std(),2)),\n",
        "        #   'Low VIX: mean='+str(np.round(df[item].loc[df['VIX']<low_vix].mean(),2))+', '+\\\n",
        "  plt.legend(['High VIX'+'\\n'+'Adj SR '+str(stats['stats_highVIX'][item]['Adj Sharpe']),\\\n",
        "              'Low_VIX'+'\\n'+'Adj SR '+str(stats['stats_lowVIX'][item]['Adj Sharpe']),\\\n",
        "              'Medium_VIX'+'\\n'+'Adj SR '+str(stats['stats_mediumVIX'][item]['Adj Sharpe'])])\n",
        "  i+=1\n",
        "fig.tight_layout()\n",
        "fig.show()"
      ],
      "execution_count": null,
      "outputs": [
        {
          "output_type": "stream",
          "text": [
            "/usr/local/lib/python3.6/dist-packages/statsmodels/tools/_testing.py:19: FutureWarning: pandas.util.testing is deprecated. Use the functions in the public API at pandas.testing instead.\n",
            "  import pandas.util.testing as tm\n"
          ],
          "name": "stderr"
        },
        {
          "output_type": "display_data",
          "data": {
            "image/png": "[encoded data removed]",
            "text/plain": [
              "<Figure size 1080x2160 with 8 Axes>"
            ]
          },
          "metadata": {
            "tags": [],
            "needs_background": "light"
          }
        }
      ]
    },
    {
      "cell_type": "code",
      "metadata": {
        "id": "jLr7jkETqQoN",
        "colab_type": "code",
        "colab": {}
      },
      "source": [
        "import seaborn as sns"
      ],
      "execution_count": null,
      "outputs": []
    },
    {
      "cell_type": "markdown",
      "metadata": {
        "id": "6yGGT2UKqQ0h",
        "colab_type": "text"
      },
      "source": [
        "### High VIX:\n",
        "\n",
        "- Bond Carry is a winner\n",
        "- outweight Bond Carry by 50% \\\\\n",
        "- LQD_credit is neutral \\\\\n",
        "- Trend, Equity carry are lossers\n",
        "\n",
        "### Medium VIX\n",
        "\n",
        " - LQD_credit, HYG_high_yield and Equity carry are the winners\n",
        "  outweight them by 50%\n",
        " - Bond carry and Trend are neutral\n",
        "\n",
        "### Low VIX\n",
        "\n",
        "- Trend, Equity carry, HYG_high_yield are the winners\n",
        "\n",
        "- outweights them by 50%\n",
        "\n",
        "- LQD_credit is neutral\n",
        "\n",
        "- Bond Carry is a loser\n",
        "\n"
      ]
    },
    {
      "cell_type": "markdown",
      "metadata": {
        "id": "nZUsOen_JXXH",
        "colab_type": "text"
      },
      "source": [
        "## Tactical Allocation"
      ]
    },
    {
      "cell_type": "markdown",
      "metadata": {
        "id": "GSM616NiVYeS",
        "colab_type": "text"
      },
      "source": [
        "High Vix"
      ]
    },
    {
      "cell_type": "code",
      "metadata": {
        "id": "aQfJ4iVG05m5",
        "colab_type": "code",
        "colab": {
          "base_uri": "https://localhost:8080/",
          "height": 122
        },
        "outputId": "1478d759-c74c-4b37-ce27-c984bbb6e8e4"
      },
      "source": [
        "stats['returns']\n",
        "strategy_list\n",
        "weight = 1/len(strategy_list)\n",
        "stats['returns']['equal_weight'] =0.00\n",
        "stats['returns']['tactical_all'] =0.00\n",
        "stats['stats_highVIX']['equal_weight'] = 0.00\n",
        "stats['stats_lowVIX']['equal_weight'] = 0.00\n",
        "stats['stats_mediumVIX']['equal_weight'] = 0.00\n",
        "\n",
        "stats['stats_highVIX']['tactical_all'] = 0.00\n",
        "stats['stats_lowVIX']['tactical_all'] = 0.00\n",
        "stats['stats_mediumVIX']['tactical_all'] = 0.00\n",
        "\n",
        "\n",
        "for item in strategy_list: \n",
        "  stats['returns']['equal_weight'] = weight* stats['returns'][item]+stats['returns']['equal_weight']\n",
        "\n",
        "outweight = 0.6\n",
        "\n",
        "stats['returns']['tactical_all'].loc[stats['returns']['VIX'] >= high_vix] = \\\n",
        "outweight*(0.5* stats['returns']['IEF_bond_carry'].loc[stats['returns']['VIX'] >= high_vix]+\\\n",
        "           0.5* stats['returns']['TIP_bond_carry'].loc[stats['returns']['VIX'] >= high_vix])+\\\n",
        "           weight*stats['returns']['LQD_credit'].loc[stats['returns']['VIX'] >= high_vix]+ \\\n",
        "          (1- outweight - weight)* (0.2*stats['returns']['LQD_credit'].loc[stats['returns']['VIX'] >= high_vix] +\n",
        "            0.2*stats['returns']['SG_Trend_Index_trend'].loc[stats['returns']['VIX'] >= high_vix] +\\\n",
        "            0.2*stats['returns']['DVY_equity_carry'].loc[stats['returns']['VIX'] >= high_vix] +\\\n",
        "            0.2*stats['returns']['IYR_equity_carry'].loc[stats['returns']['VIX'] >= high_vix] +\n",
        "            0.2*stats['returns']['HYG_high_yield'].loc[stats['returns']['VIX'] >= high_vix])\n",
        "          \n"
      ],
      "execution_count": null,
      "outputs": [
        {
          "output_type": "stream",
          "text": [
            "/usr/local/lib/python3.6/dist-packages/pandas/core/indexing.py:671: SettingWithCopyWarning: \n",
            "A value is trying to be set on a copy of a slice from a DataFrame\n",
            "\n",
            "See the caveats in the documentation: https://pandas.pydata.org/pandas-docs/stable/user_guide/indexing.html#returning-a-view-versus-a-copy\n",
            "  self._setitem_with_indexer(indexer, value)\n"
          ],
          "name": "stderr"
        }
      ]
    },
    {
      "cell_type": "markdown",
      "metadata": {
        "id": "hQ-__6f5Pq_7",
        "colab_type": "text"
      },
      "source": [
        "Medium VIX"
      ]
    },
    {
      "cell_type": "code",
      "metadata": {
        "id": "xM0Uung3NU4r",
        "colab_type": "code",
        "colab": {
          "base_uri": "https://localhost:8080/",
          "height": 122
        },
        "outputId": "e886ee9c-5892-4809-965f-c1dba88b07f9"
      },
      "source": [
        "stats['returns']['tactical_all'].loc[(stats['returns']['VIX'] <= high_vix) & (stats['returns']['VIX'] > low_vix)] = \\\n",
        "outweight*(0.25* stats['returns']['DVY_equity_carry'].loc[(stats['returns']['VIX'] <= high_vix) & \\\n",
        "                                    (stats['returns']['VIX'] > low_vix)]  +\n",
        "           0.25* stats['returns']['IYR_equity_carry'].loc[(stats['returns']['VIX'] <= high_vix) &\\\n",
        "                                                         (stats['returns']['VIX'] > low_vix)]  +\n",
        "           0.25* stats['returns']['HYG_high_yield'].loc[(stats['returns']['VIX'] <= high_vix) &\\\n",
        "                                                        (stats['returns']['VIX'] > low_vix)]  +\\\n",
        "           0.25*stats['returns']['LQD_credit'].loc[(stats['returns']['VIX'] <= high_vix) & \\\n",
        "                                                   (stats['returns']['VIX'] > low_vix)])+ \\\n",
        "          (1- outweight)* (0.25*stats['returns']['SG_Trend_Index_trend'].loc[(stats['returns']['VIX'] <= high_vix) & \\\n",
        "                                                                             (stats['returns']['VIX'] > low_vix)]+\\\n",
        "            0.25*stats['returns']['PCY_trend'].loc[(stats['returns']['VIX'] <= high_vix) & \\\n",
        "                                                   (stats['returns']['VIX'] > low_vix)]+\\\n",
        "            0.25*stats['returns']['IEF_bond_carry'].loc[(stats['returns']['VIX'] <= high_vix) & \\\n",
        "                                                        (stats['returns']['VIX'] > low_vix)]+\n",
        "            0.25*stats['returns']['TIP_bond_carry'].loc[(stats['returns']['VIX'] <= high_vix) & \\\n",
        "                                                        (stats['returns']['VIX'] > low_vix)])"
      ],
      "execution_count": null,
      "outputs": [
        {
          "output_type": "stream",
          "text": [
            "/usr/local/lib/python3.6/dist-packages/pandas/core/indexing.py:671: SettingWithCopyWarning: \n",
            "A value is trying to be set on a copy of a slice from a DataFrame\n",
            "\n",
            "See the caveats in the documentation: https://pandas.pydata.org/pandas-docs/stable/user_guide/indexing.html#returning-a-view-versus-a-copy\n",
            "  self._setitem_with_indexer(indexer, value)\n"
          ],
          "name": "stderr"
        }
      ]
    },
    {
      "cell_type": "markdown",
      "metadata": {
        "id": "HWzRBfuHPuUU",
        "colab_type": "text"
      },
      "source": [
        "Low VIX"
      ]
    },
    {
      "cell_type": "code",
      "metadata": {
        "id": "xNnLTESxOw6j",
        "colab_type": "code",
        "colab": {
          "base_uri": "https://localhost:8080/",
          "height": 122
        },
        "outputId": "a09ea967-ab19-4f05-f35d-bb8ef1b034f5"
      },
      "source": [
        "stats['returns']['tactical_all'].loc[stats['returns']['VIX'] < low_vix] = \\\n",
        "outweight*(0.2* stats['returns']['IYR_equity_carry'].loc[stats['returns']['VIX'] < low_vix]+\\\n",
        "           0.2* stats['returns']['DVY_equity_carry'].loc[stats['returns']['VIX'] < low_vix]+\n",
        "           0.2* stats['returns']['PCY_trend'].loc[stats['returns']['VIX']< low_vix]+\n",
        "          0.2* stats['returns']['SG_Trend_Index_trend'].loc[stats['returns']['VIX']< low_vix]+\\\n",
        "          0.2*stats['returns']['HYG_high_yield'].loc[stats['returns']['VIX'] < low_vix]) +\\\n",
        "\n",
        "             weight*stats['returns']['LQD_credit'].loc[stats['returns']['VIX'] < low_vix]+ \\\n",
        "          (1- outweight - weight)* (0.5*stats['returns']['TIP_bond_carry'].loc[stats['returns']['VIX'] < low_vix] +\n",
        "            0.5*stats['returns']['TIP_bond_carry'].loc[stats['returns']['VIX'] < low_vix])\n",
        "          "
      ],
      "execution_count": null,
      "outputs": [
        {
          "output_type": "stream",
          "text": [
            "/usr/local/lib/python3.6/dist-packages/pandas/core/indexing.py:671: SettingWithCopyWarning: \n",
            "A value is trying to be set on a copy of a slice from a DataFrame\n",
            "\n",
            "See the caveats in the documentation: https://pandas.pydata.org/pandas-docs/stable/user_guide/indexing.html#returning-a-view-versus-a-copy\n",
            "  self._setitem_with_indexer(indexer, value)\n"
          ],
          "name": "stderr"
        }
      ]
    },
    {
      "cell_type": "code",
      "metadata": {
        "id": "j-Kj7L9DWUrH",
        "colab_type": "code",
        "colab": {
          "base_uri": "https://localhost:8080/",
          "height": 289
        },
        "outputId": "1c22217d-8d07-4a93-a1f5-0a45810ba5eb"
      },
      "source": [
        "stats['stats']"
      ],
      "execution_count": null,
      "outputs": [
        {
          "output_type": "execute_result",
          "data": {
            "text/html": [
              "<div>\n",
              "<style scoped>\n",
              "    .dataframe tbody tr th:only-of-type {\n",
              "        vertical-align: middle;\n",
              "    }\n",
              "\n",
              "    .dataframe tbody tr th {\n",
              "        vertical-align: top;\n",
              "    }\n",
              "\n",
              "    .dataframe thead th {\n",
              "        text-align: right;\n",
              "    }\n",
              "</style>\n",
              "<table border=\"1\" class=\"dataframe\">\n",
              "  <thead>\n",
              "    <tr style=\"text-align: right;\">\n",
              "      <th></th>\n",
              "      <th>PCY_trend</th>\n",
              "      <th>SG_Trend_Index_trend</th>\n",
              "      <th>DVY_equity_carry</th>\n",
              "      <th>IYR_equity_carry</th>\n",
              "      <th>IEF_bond_carry</th>\n",
              "      <th>TIP_bond_carry</th>\n",
              "      <th>LQD_credit</th>\n",
              "      <th>HYG_high_yield</th>\n",
              "    </tr>\n",
              "  </thead>\n",
              "  <tbody>\n",
              "    <tr>\n",
              "      <th>Mean Return</th>\n",
              "      <td>0.03</td>\n",
              "      <td>0.01</td>\n",
              "      <td>0.03</td>\n",
              "      <td>0.04</td>\n",
              "      <td>0.02</td>\n",
              "      <td>0.02</td>\n",
              "      <td>0.03</td>\n",
              "      <td>0.02</td>\n",
              "    </tr>\n",
              "    <tr>\n",
              "      <th>Vol</th>\n",
              "      <td>1.09</td>\n",
              "      <td>0.71</td>\n",
              "      <td>1.35</td>\n",
              "      <td>2.05</td>\n",
              "      <td>0.43</td>\n",
              "      <td>0.41</td>\n",
              "      <td>0.58</td>\n",
              "      <td>0.78</td>\n",
              "    </tr>\n",
              "    <tr>\n",
              "      <th>Sharpe</th>\n",
              "      <td>0.42</td>\n",
              "      <td>0.28</td>\n",
              "      <td>0.32</td>\n",
              "      <td>0.29</td>\n",
              "      <td>0.82</td>\n",
              "      <td>0.66</td>\n",
              "      <td>0.69</td>\n",
              "      <td>0.45</td>\n",
              "    </tr>\n",
              "    <tr>\n",
              "      <th>Skewness</th>\n",
              "      <td>-0.72</td>\n",
              "      <td>-0.49</td>\n",
              "      <td>-0.43</td>\n",
              "      <td>-0.14</td>\n",
              "      <td>0.15</td>\n",
              "      <td>0.25</td>\n",
              "      <td>0.04</td>\n",
              "      <td>0.79</td>\n",
              "    </tr>\n",
              "    <tr>\n",
              "      <th>MaxDD</th>\n",
              "      <td>-17.26</td>\n",
              "      <td>-4.14</td>\n",
              "      <td>-11.43</td>\n",
              "      <td>-20.61</td>\n",
              "      <td>-2.51</td>\n",
              "      <td>-2.95</td>\n",
              "      <td>-9.11</td>\n",
              "      <td>-8.1</td>\n",
              "    </tr>\n",
              "    <tr>\n",
              "      <th>Adj Sharpe</th>\n",
              "      <td>0.4</td>\n",
              "      <td>0.27</td>\n",
              "      <td>0.31</td>\n",
              "      <td>0.29</td>\n",
              "      <td>0.84</td>\n",
              "      <td>0.68</td>\n",
              "      <td>0.69</td>\n",
              "      <td>0.48</td>\n",
              "    </tr>\n",
              "  </tbody>\n",
              "</table>\n",
              "</div>"
            ],
            "text/plain": [
              "            PCY_trend SG_Trend_Index_trend  ... LQD_credit HYG_high_yield\n",
              "Mean Return      0.03                 0.01  ...       0.03           0.02\n",
              "Vol              1.09                 0.71  ...       0.58           0.78\n",
              "Sharpe           0.42                 0.28  ...       0.69           0.45\n",
              "Skewness        -0.72                -0.49  ...       0.04           0.79\n",
              "MaxDD          -17.26                -4.14  ...      -9.11           -8.1\n",
              "Adj Sharpe        0.4                 0.27  ...       0.69           0.48\n",
              "\n",
              "[6 rows x 8 columns]"
            ]
          },
          "metadata": {
            "tags": []
          },
          "execution_count": 38
        }
      ]
    },
    {
      "cell_type": "code",
      "metadata": {
        "id": "wL7dPiPlVnST",
        "colab_type": "code",
        "colab": {
          "base_uri": "https://localhost:8080/",
          "height": 1000
        },
        "outputId": "e742f1d0-3489-4e00-93d9-3c8877b4b078"
      },
      "source": [
        "dev_strategies = ['equal_weight', 'tactical_all'] \n",
        "\n",
        "\n",
        "\n",
        "for strategy in dev_strategies:\n",
        "  stats['stats'][strategy] =0\n",
        "  stats['stats'][strategy]['Sharpe'] = round(stats['returns'][strategy].mean()/stats['returns'][strategy].std()*(252**0.5),2)\n",
        "  sharpe = stats['stats'][strategy]['Sharpe']\n",
        "  stats['stats'][strategy]['Vol'] = round(stats['returns'][strategy].std(),2)\n",
        "  stats['stats'][strategy]['MaxDD'] = round(stats['returns'][strategy].min(),2)\n",
        "  stats['stats'][strategy]['Skewness'] = round(stats['returns'][strategy].skew(),2)\n",
        "  skew = stats['stats'][strategy]['Skewness']\n",
        "  kur = round(stats['returns'][strategy].kurtosis(),2)\n",
        "  stats['stats'][strategy]['Mean Return'] = round(stats['returns'][strategy].mean(),2)\n",
        "  stats['stats'][strategy]['Adj Sharpe'] = round(sharpe*(1 + skew/6*sharpe),2)\n",
        "\n",
        "\n",
        "#stats['stats_highVIX'] = pd.DataFrame(columns = strategy_list, index = ['Mean Return', 'Vol', 'Sharpe', 'Skewness', \\\n",
        "                                                                       # 'MaxDD', 'Adj Sharpe'])\n",
        "for strategy in dev_strategies:\n",
        "  stats['stats_highVIX'][strategy]['Sharpe'] = round(stats['returns'][strategy].loc[stats['returns']['VIX']>high_vix]\n",
        "                        .mean()/stats['returns'][strategy].loc[stats['returns']['VIX']>high_vix].std()*(252**0.5),2)\n",
        "  sharpe =  stats['stats_highVIX'][strategy]['Sharpe']\n",
        "  stats['stats_highVIX'][strategy]['Vol'] = round(stats['returns'][strategy].loc[stats['returns']['VIX']>high_vix].std(),2)\n",
        "  stats['stats_highVIX'][strategy]['MaxDD'] = round(stats['returns'][strategy].loc[stats['returns']['VIX']>high_vix].min(),2)\n",
        "  stats['stats_highVIX'][strategy]['Skewness'] = round(stats['returns'][strategy].loc[stats['returns']['VIX']>high_vix].skew(),2)\n",
        "  stats['stats_highVIX'][strategy]['Mean Return'] = round(stats['returns'][strategy].loc[stats['returns']['VIX']>high_vix].mean(),2)\n",
        "  skew = stats['stats_highVIX'][strategy]['Skewness']\n",
        "  kur = round(stats['returns'][strategy].loc[stats['returns']['VIX']>high_vix].kurtosis(),2)\n",
        "  stats['stats_highVIX'][strategy]['Adj Sharpe'] = round(sharpe *(1 + skew/6*sharpe),2)\n",
        "\n",
        "#stats['stats_lowVIX'] = pd.DataFrame(columns = strategy_list, index = ['Mean Return', 'Vol', 'Sharpe', 'Skewness', 'MaxDD',\\\n",
        "                                                                        #'Adj Sharpe'])\n",
        "\n",
        "for strategy in dev_strategies:\n",
        "  stats['stats_lowVIX'][strategy]['Sharpe'] = round(stats['returns'][strategy].loc[stats['returns']['VIX']<low_vix]\n",
        "                                             .mean()/stats['returns'][strategy].loc[stats['returns']['VIX']<low_vix].std()\\\n",
        "                                             *(252**0.5),2)\n",
        "  sharpe = stats['stats_lowVIX'][strategy]['Sharpe']\n",
        "  stats['stats_lowVIX'][strategy]['Vol'] = round(stats['returns'][strategy].loc[stats['returns']['VIX']<low_vix].std(),2)\n",
        "  stats['stats_lowVIX'][strategy]['MaxDD'] = round(stats['returns'][strategy].loc[stats['returns']['VIX']<low_vix].min(),2)\n",
        "  stats['stats_lowVIX'][strategy]['Skewness'] = round(stats['returns'][strategy].loc[stats['returns']['VIX']<low_vix].skew(),2)\n",
        "  stats['stats_lowVIX'][strategy]['Mean Return'] = round(stats['returns'][strategy].loc[stats['returns']['VIX']<low_vix].mean(),2)\n",
        "  skew = stats['stats_lowVIX'][strategy]['Skewness']\n",
        "  kur = round(stats['returns'][strategy].loc[stats['returns']['VIX']<low_vix].kurtosis(),2)\n",
        "  stats['stats_lowVIX'][strategy]['Adj Sharpe'] = round(sharpe *(1 + skew/6*sharpe),2)"
      ],
      "execution_count": null,
      "outputs": [
        {
          "output_type": "stream",
          "text": [
            "/usr/local/lib/python3.6/dist-packages/ipykernel_launcher.py:7: SettingWithCopyWarning: \n",
            "A value is trying to be set on a copy of a slice from a DataFrame\n",
            "\n",
            "See the caveats in the documentation: https://pandas.pydata.org/pandas-docs/stable/user_guide/indexing.html#returning-a-view-versus-a-copy\n",
            "  import sys\n",
            "/usr/local/lib/python3.6/dist-packages/ipykernel_launcher.py:9: SettingWithCopyWarning: \n",
            "A value is trying to be set on a copy of a slice from a DataFrame\n",
            "\n",
            "See the caveats in the documentation: https://pandas.pydata.org/pandas-docs/stable/user_guide/indexing.html#returning-a-view-versus-a-copy\n",
            "  if __name__ == '__main__':\n",
            "/usr/local/lib/python3.6/dist-packages/ipykernel_launcher.py:10: SettingWithCopyWarning: \n",
            "A value is trying to be set on a copy of a slice from a DataFrame\n",
            "\n",
            "See the caveats in the documentation: https://pandas.pydata.org/pandas-docs/stable/user_guide/indexing.html#returning-a-view-versus-a-copy\n",
            "  # Remove the CWD from sys.path while we load stuff.\n",
            "/usr/local/lib/python3.6/dist-packages/ipykernel_launcher.py:11: SettingWithCopyWarning: \n",
            "A value is trying to be set on a copy of a slice from a DataFrame\n",
            "\n",
            "See the caveats in the documentation: https://pandas.pydata.org/pandas-docs/stable/user_guide/indexing.html#returning-a-view-versus-a-copy\n",
            "  # This is added back by InteractiveShellApp.init_path()\n",
            "/usr/local/lib/python3.6/dist-packages/ipykernel_launcher.py:14: SettingWithCopyWarning: \n",
            "A value is trying to be set on a copy of a slice from a DataFrame\n",
            "\n",
            "See the caveats in the documentation: https://pandas.pydata.org/pandas-docs/stable/user_guide/indexing.html#returning-a-view-versus-a-copy\n",
            "  \n",
            "/usr/local/lib/python3.6/dist-packages/ipykernel_launcher.py:15: SettingWithCopyWarning: \n",
            "A value is trying to be set on a copy of a slice from a DataFrame\n",
            "\n",
            "See the caveats in the documentation: https://pandas.pydata.org/pandas-docs/stable/user_guide/indexing.html#returning-a-view-versus-a-copy\n",
            "  from ipykernel import kernelapp as app\n",
            "/usr/local/lib/python3.6/dist-packages/ipykernel_launcher.py:22: SettingWithCopyWarning: \n",
            "A value is trying to be set on a copy of a slice from a DataFrame\n",
            "\n",
            "See the caveats in the documentation: https://pandas.pydata.org/pandas-docs/stable/user_guide/indexing.html#returning-a-view-versus-a-copy\n",
            "/usr/local/lib/python3.6/dist-packages/ipykernel_launcher.py:24: SettingWithCopyWarning: \n",
            "A value is trying to be set on a copy of a slice from a DataFrame\n",
            "\n",
            "See the caveats in the documentation: https://pandas.pydata.org/pandas-docs/stable/user_guide/indexing.html#returning-a-view-versus-a-copy\n",
            "/usr/local/lib/python3.6/dist-packages/ipykernel_launcher.py:25: SettingWithCopyWarning: \n",
            "A value is trying to be set on a copy of a slice from a DataFrame\n",
            "\n",
            "See the caveats in the documentation: https://pandas.pydata.org/pandas-docs/stable/user_guide/indexing.html#returning-a-view-versus-a-copy\n",
            "/usr/local/lib/python3.6/dist-packages/ipykernel_launcher.py:26: SettingWithCopyWarning: \n",
            "A value is trying to be set on a copy of a slice from a DataFrame\n",
            "\n",
            "See the caveats in the documentation: https://pandas.pydata.org/pandas-docs/stable/user_guide/indexing.html#returning-a-view-versus-a-copy\n",
            "/usr/local/lib/python3.6/dist-packages/ipykernel_launcher.py:27: SettingWithCopyWarning: \n",
            "A value is trying to be set on a copy of a slice from a DataFrame\n",
            "\n",
            "See the caveats in the documentation: https://pandas.pydata.org/pandas-docs/stable/user_guide/indexing.html#returning-a-view-versus-a-copy\n",
            "/usr/local/lib/python3.6/dist-packages/ipykernel_launcher.py:30: SettingWithCopyWarning: \n",
            "A value is trying to be set on a copy of a slice from a DataFrame\n",
            "\n",
            "See the caveats in the documentation: https://pandas.pydata.org/pandas-docs/stable/user_guide/indexing.html#returning-a-view-versus-a-copy\n",
            "/usr/local/lib/python3.6/dist-packages/ipykernel_launcher.py:38: SettingWithCopyWarning: \n",
            "A value is trying to be set on a copy of a slice from a DataFrame\n",
            "\n",
            "See the caveats in the documentation: https://pandas.pydata.org/pandas-docs/stable/user_guide/indexing.html#returning-a-view-versus-a-copy\n",
            "/usr/local/lib/python3.6/dist-packages/ipykernel_launcher.py:40: SettingWithCopyWarning: \n",
            "A value is trying to be set on a copy of a slice from a DataFrame\n",
            "\n",
            "See the caveats in the documentation: https://pandas.pydata.org/pandas-docs/stable/user_guide/indexing.html#returning-a-view-versus-a-copy\n",
            "/usr/local/lib/python3.6/dist-packages/ipykernel_launcher.py:41: SettingWithCopyWarning: \n",
            "A value is trying to be set on a copy of a slice from a DataFrame\n",
            "\n",
            "See the caveats in the documentation: https://pandas.pydata.org/pandas-docs/stable/user_guide/indexing.html#returning-a-view-versus-a-copy\n",
            "/usr/local/lib/python3.6/dist-packages/ipykernel_launcher.py:42: SettingWithCopyWarning: \n",
            "A value is trying to be set on a copy of a slice from a DataFrame\n",
            "\n",
            "See the caveats in the documentation: https://pandas.pydata.org/pandas-docs/stable/user_guide/indexing.html#returning-a-view-versus-a-copy\n",
            "/usr/local/lib/python3.6/dist-packages/ipykernel_launcher.py:43: SettingWithCopyWarning: \n",
            "A value is trying to be set on a copy of a slice from a DataFrame\n",
            "\n",
            "See the caveats in the documentation: https://pandas.pydata.org/pandas-docs/stable/user_guide/indexing.html#returning-a-view-versus-a-copy\n",
            "/usr/local/lib/python3.6/dist-packages/ipykernel_launcher.py:46: SettingWithCopyWarning: \n",
            "A value is trying to be set on a copy of a slice from a DataFrame\n",
            "\n",
            "See the caveats in the documentation: https://pandas.pydata.org/pandas-docs/stable/user_guide/indexing.html#returning-a-view-versus-a-copy\n"
          ],
          "name": "stderr"
        }
      ]
    },
    {
      "cell_type": "code",
      "metadata": {
        "id": "ejXUjqgDLj8g",
        "colab_type": "code",
        "colab": {
          "base_uri": "https://localhost:8080/",
          "height": 289
        },
        "outputId": "67043391-62f1-45f2-daa8-22508c2074ee"
      },
      "source": [
        "stats['stats_highVIX']"
      ],
      "execution_count": null,
      "outputs": [
        {
          "output_type": "execute_result",
          "data": {
            "text/html": [
              "<div>\n",
              "<style scoped>\n",
              "    .dataframe tbody tr th:only-of-type {\n",
              "        vertical-align: middle;\n",
              "    }\n",
              "\n",
              "    .dataframe tbody tr th {\n",
              "        vertical-align: top;\n",
              "    }\n",
              "\n",
              "    .dataframe thead th {\n",
              "        text-align: right;\n",
              "    }\n",
              "</style>\n",
              "<table border=\"1\" class=\"dataframe\">\n",
              "  <thead>\n",
              "    <tr style=\"text-align: right;\">\n",
              "      <th></th>\n",
              "      <th>PCY_trend</th>\n",
              "      <th>SG_Trend_Index_trend</th>\n",
              "      <th>DVY_equity_carry</th>\n",
              "      <th>IYR_equity_carry</th>\n",
              "      <th>IEF_bond_carry</th>\n",
              "      <th>TIP_bond_carry</th>\n",
              "      <th>LQD_credit</th>\n",
              "      <th>HYG_high_yield</th>\n",
              "      <th>equal_weight</th>\n",
              "      <th>tactical_all</th>\n",
              "    </tr>\n",
              "  </thead>\n",
              "  <tbody>\n",
              "    <tr>\n",
              "      <th>Mean Return</th>\n",
              "      <td>0.03</td>\n",
              "      <td>-0.01</td>\n",
              "      <td>-0.16</td>\n",
              "      <td>-0.15</td>\n",
              "      <td>0.08</td>\n",
              "      <td>0.04</td>\n",
              "      <td>0.04</td>\n",
              "      <td>-0.03</td>\n",
              "      <td>-0.02</td>\n",
              "      <td>0.02</td>\n",
              "    </tr>\n",
              "    <tr>\n",
              "      <th>Vol</th>\n",
              "      <td>2.07</td>\n",
              "      <td>0.78</td>\n",
              "      <td>2.4</td>\n",
              "      <td>3.77</td>\n",
              "      <td>0.61</td>\n",
              "      <td>0.63</td>\n",
              "      <td>1.02</td>\n",
              "      <td>1.42</td>\n",
              "      <td>0.97</td>\n",
              "      <td>0.53</td>\n",
              "    </tr>\n",
              "    <tr>\n",
              "      <th>Sharpe</th>\n",
              "      <td>0.21</td>\n",
              "      <td>-0.23</td>\n",
              "      <td>-1.05</td>\n",
              "      <td>-0.63</td>\n",
              "      <td>2.1</td>\n",
              "      <td>1.07</td>\n",
              "      <td>0.58</td>\n",
              "      <td>-0.36</td>\n",
              "      <td>-0.34</td>\n",
              "      <td>0.73</td>\n",
              "    </tr>\n",
              "    <tr>\n",
              "      <th>Skewness</th>\n",
              "      <td>-0.41</td>\n",
              "      <td>-0.48</td>\n",
              "      <td>-0.11</td>\n",
              "      <td>0.05</td>\n",
              "      <td>0.19</td>\n",
              "      <td>0.26</td>\n",
              "      <td>0.03</td>\n",
              "      <td>0.63</td>\n",
              "      <td>-0.24</td>\n",
              "      <td>0.00</td>\n",
              "    </tr>\n",
              "    <tr>\n",
              "      <th>MaxDD</th>\n",
              "      <td>-17.26</td>\n",
              "      <td>-4.14</td>\n",
              "      <td>-11.43</td>\n",
              "      <td>-20.61</td>\n",
              "      <td>-2.51</td>\n",
              "      <td>-2.95</td>\n",
              "      <td>-9.11</td>\n",
              "      <td>-8.1</td>\n",
              "      <td>-5.05</td>\n",
              "      <td>-2.80</td>\n",
              "    </tr>\n",
              "    <tr>\n",
              "      <th>Adj Sharpe</th>\n",
              "      <td>0.21</td>\n",
              "      <td>-0.23</td>\n",
              "      <td>-1.07</td>\n",
              "      <td>-0.63</td>\n",
              "      <td>2.24</td>\n",
              "      <td>1.12</td>\n",
              "      <td>0.58</td>\n",
              "      <td>-0.35</td>\n",
              "      <td>-0.34</td>\n",
              "      <td>0.73</td>\n",
              "    </tr>\n",
              "  </tbody>\n",
              "</table>\n",
              "</div>"
            ],
            "text/plain": [
              "            PCY_trend SG_Trend_Index_trend  ... equal_weight tactical_all\n",
              "Mean Return      0.03                -0.01  ...        -0.02         0.02\n",
              "Vol              2.07                 0.78  ...         0.97         0.53\n",
              "Sharpe           0.21                -0.23  ...        -0.34         0.73\n",
              "Skewness        -0.41                -0.48  ...        -0.24         0.00\n",
              "MaxDD          -17.26                -4.14  ...        -5.05        -2.80\n",
              "Adj Sharpe       0.21                -0.23  ...        -0.34         0.73\n",
              "\n",
              "[6 rows x 10 columns]"
            ]
          },
          "metadata": {
            "tags": []
          },
          "execution_count": 40
        }
      ]
    },
    {
      "cell_type": "code",
      "metadata": {
        "id": "00X5JcR6W1mk",
        "colab_type": "code",
        "colab": {
          "base_uri": "https://localhost:8080/",
          "height": 547
        },
        "outputId": "e5650aa6-89f4-4aa1-cba1-8a94d740189e"
      },
      "source": [
        "dev_strategies = ['equal_weight', 'tactical_all'] \n",
        "\n",
        "\n",
        "for strategy in dev_strategies:\n",
        "  stats['stats'][strategy] =0.00 \n",
        "  stats['stats'][strategy]['Sharpe'] = round(stats['returns'][strategy].mean()/stats['returns'][strategy].std()*(252**0.5),2)\n",
        "  sharpe = stats['stats'][strategy]['Sharpe']\n",
        "  stats['stats'][strategy]['Vol'] = round(stats['returns'][strategy].std(),2)\n",
        "  stats['stats'][strategy]['MaxDD'] = round(stats['returns'][strategy].min(),2)\n",
        "  stats['stats'][strategy]['Skewness'] = round(stats['returns'][strategy].skew(),2)\n",
        "  skew = stats['stats'][strategy]['Skewness']\n",
        "  kur = round(stats['returns'][strategy].kurtosis(),2)\n",
        "  stats['stats'][strategy]['Mean Return'] = round(stats['returns'][strategy].mean(),2)\n",
        "  stats['stats'][strategy]['Adj Sharpe'] = round(sharpe*(1 + skew/6*sharpe),2)"
      ],
      "execution_count": null,
      "outputs": [
        {
          "output_type": "stream",
          "text": [
            "/usr/local/lib/python3.6/dist-packages/ipykernel_launcher.py:6: SettingWithCopyWarning: \n",
            "A value is trying to be set on a copy of a slice from a DataFrame\n",
            "\n",
            "See the caveats in the documentation: https://pandas.pydata.org/pandas-docs/stable/user_guide/indexing.html#returning-a-view-versus-a-copy\n",
            "  \n",
            "/usr/local/lib/python3.6/dist-packages/ipykernel_launcher.py:8: SettingWithCopyWarning: \n",
            "A value is trying to be set on a copy of a slice from a DataFrame\n",
            "\n",
            "See the caveats in the documentation: https://pandas.pydata.org/pandas-docs/stable/user_guide/indexing.html#returning-a-view-versus-a-copy\n",
            "  \n",
            "/usr/local/lib/python3.6/dist-packages/ipykernel_launcher.py:9: SettingWithCopyWarning: \n",
            "A value is trying to be set on a copy of a slice from a DataFrame\n",
            "\n",
            "See the caveats in the documentation: https://pandas.pydata.org/pandas-docs/stable/user_guide/indexing.html#returning-a-view-versus-a-copy\n",
            "  if __name__ == '__main__':\n",
            "/usr/local/lib/python3.6/dist-packages/ipykernel_launcher.py:10: SettingWithCopyWarning: \n",
            "A value is trying to be set on a copy of a slice from a DataFrame\n",
            "\n",
            "See the caveats in the documentation: https://pandas.pydata.org/pandas-docs/stable/user_guide/indexing.html#returning-a-view-versus-a-copy\n",
            "  # Remove the CWD from sys.path while we load stuff.\n",
            "/usr/local/lib/python3.6/dist-packages/ipykernel_launcher.py:13: SettingWithCopyWarning: \n",
            "A value is trying to be set on a copy of a slice from a DataFrame\n",
            "\n",
            "See the caveats in the documentation: https://pandas.pydata.org/pandas-docs/stable/user_guide/indexing.html#returning-a-view-versus-a-copy\n",
            "  del sys.path[0]\n",
            "/usr/local/lib/python3.6/dist-packages/ipykernel_launcher.py:14: SettingWithCopyWarning: \n",
            "A value is trying to be set on a copy of a slice from a DataFrame\n",
            "\n",
            "See the caveats in the documentation: https://pandas.pydata.org/pandas-docs/stable/user_guide/indexing.html#returning-a-view-versus-a-copy\n",
            "  \n"
          ],
          "name": "stderr"
        }
      ]
    },
    {
      "cell_type": "markdown",
      "metadata": {
        "id": "PZHX8RQiPt0_",
        "colab_type": "text"
      },
      "source": [
        ""
      ]
    },
    {
      "cell_type": "code",
      "metadata": {
        "id": "1ingxGUrNMXe",
        "colab_type": "code",
        "colab": {
          "base_uri": "https://localhost:8080/",
          "height": 289
        },
        "outputId": "9c8e7107-54f6-4878-900c-daca035c48ce"
      },
      "source": [
        "stats['stats']"
      ],
      "execution_count": null,
      "outputs": [
        {
          "output_type": "execute_result",
          "data": {
            "text/html": [
              "<div>\n",
              "<style scoped>\n",
              "    .dataframe tbody tr th:only-of-type {\n",
              "        vertical-align: middle;\n",
              "    }\n",
              "\n",
              "    .dataframe tbody tr th {\n",
              "        vertical-align: top;\n",
              "    }\n",
              "\n",
              "    .dataframe thead th {\n",
              "        text-align: right;\n",
              "    }\n",
              "</style>\n",
              "<table border=\"1\" class=\"dataframe\">\n",
              "  <thead>\n",
              "    <tr style=\"text-align: right;\">\n",
              "      <th></th>\n",
              "      <th>PCY_trend</th>\n",
              "      <th>SG_Trend_Index_trend</th>\n",
              "      <th>DVY_equity_carry</th>\n",
              "      <th>IYR_equity_carry</th>\n",
              "      <th>IEF_bond_carry</th>\n",
              "      <th>TIP_bond_carry</th>\n",
              "      <th>LQD_credit</th>\n",
              "      <th>HYG_high_yield</th>\n",
              "      <th>equal_weight</th>\n",
              "      <th>tactical_all</th>\n",
              "    </tr>\n",
              "  </thead>\n",
              "  <tbody>\n",
              "    <tr>\n",
              "      <th>Mean Return</th>\n",
              "      <td>0.03</td>\n",
              "      <td>0.01</td>\n",
              "      <td>0.03</td>\n",
              "      <td>0.04</td>\n",
              "      <td>0.02</td>\n",
              "      <td>0.02</td>\n",
              "      <td>0.03</td>\n",
              "      <td>0.02</td>\n",
              "      <td>0.02</td>\n",
              "      <td>0.04</td>\n",
              "    </tr>\n",
              "    <tr>\n",
              "      <th>Vol</th>\n",
              "      <td>1.09</td>\n",
              "      <td>0.71</td>\n",
              "      <td>1.35</td>\n",
              "      <td>2.05</td>\n",
              "      <td>0.43</td>\n",
              "      <td>0.41</td>\n",
              "      <td>0.58</td>\n",
              "      <td>0.78</td>\n",
              "      <td>0.55</td>\n",
              "      <td>0.38</td>\n",
              "    </tr>\n",
              "    <tr>\n",
              "      <th>Sharpe</th>\n",
              "      <td>0.42</td>\n",
              "      <td>0.28</td>\n",
              "      <td>0.32</td>\n",
              "      <td>0.29</td>\n",
              "      <td>0.82</td>\n",
              "      <td>0.66</td>\n",
              "      <td>0.69</td>\n",
              "      <td>0.45</td>\n",
              "      <td>0.69</td>\n",
              "      <td>1.56</td>\n",
              "    </tr>\n",
              "    <tr>\n",
              "      <th>Skewness</th>\n",
              "      <td>-0.72</td>\n",
              "      <td>-0.49</td>\n",
              "      <td>-0.43</td>\n",
              "      <td>-0.14</td>\n",
              "      <td>0.15</td>\n",
              "      <td>0.25</td>\n",
              "      <td>0.04</td>\n",
              "      <td>0.79</td>\n",
              "      <td>-0.53</td>\n",
              "      <td>-0.12</td>\n",
              "    </tr>\n",
              "    <tr>\n",
              "      <th>MaxDD</th>\n",
              "      <td>-17.26</td>\n",
              "      <td>-4.14</td>\n",
              "      <td>-11.43</td>\n",
              "      <td>-20.61</td>\n",
              "      <td>-2.51</td>\n",
              "      <td>-2.95</td>\n",
              "      <td>-9.11</td>\n",
              "      <td>-8.1</td>\n",
              "      <td>-5.05</td>\n",
              "      <td>-2.80</td>\n",
              "    </tr>\n",
              "    <tr>\n",
              "      <th>Adj Sharpe</th>\n",
              "      <td>0.4</td>\n",
              "      <td>0.27</td>\n",
              "      <td>0.31</td>\n",
              "      <td>0.29</td>\n",
              "      <td>0.84</td>\n",
              "      <td>0.68</td>\n",
              "      <td>0.69</td>\n",
              "      <td>0.48</td>\n",
              "      <td>0.65</td>\n",
              "      <td>1.51</td>\n",
              "    </tr>\n",
              "  </tbody>\n",
              "</table>\n",
              "</div>"
            ],
            "text/plain": [
              "            PCY_trend SG_Trend_Index_trend  ... equal_weight tactical_all\n",
              "Mean Return      0.03                 0.01  ...         0.02         0.04\n",
              "Vol              1.09                 0.71  ...         0.55         0.38\n",
              "Sharpe           0.42                 0.28  ...         0.69         1.56\n",
              "Skewness        -0.72                -0.49  ...        -0.53        -0.12\n",
              "MaxDD          -17.26                -4.14  ...        -5.05        -2.80\n",
              "Adj Sharpe        0.4                 0.27  ...         0.65         1.51\n",
              "\n",
              "[6 rows x 10 columns]"
            ]
          },
          "metadata": {
            "tags": []
          },
          "execution_count": 42
        }
      ]
    },
    {
      "cell_type": "markdown",
      "metadata": {
        "id": "gimFWhV-06HD",
        "colab_type": "text"
      },
      "source": [
        ""
      ]
    },
    {
      "cell_type": "code",
      "metadata": {
        "id": "Tj0iwFc4cSL-",
        "colab_type": "code",
        "colab": {
          "base_uri": "https://localhost:8080/",
          "height": 441
        },
        "outputId": "d94b1541-a358-43a8-988a-cd0547affb6b"
      },
      "source": [
        "len1= 1\n",
        "len2 = 2\n",
        "strategy_list_custom = ['IEF_bond_carry', 'IYR_equity_carry', 'LQD_credit']\n",
        "import seaborn as sns\n",
        "sns.distplot(df[item].loc[df['VIX'] > high_vix], hist=False, rug=False);\n",
        "\n",
        "color_list_custom = ['b', 'r', 'blue']\n",
        "# plot distribution of the portfolio conditional on view\n",
        "%matplotlib inline\n",
        "fig = plt.figure(figsize=(10,6))\n",
        "#fig, axes =plt.subplots(2,2)\n",
        "i = 0\n",
        "\n",
        "for item in strategy_list_custom:\n",
        "  #plt.subplot(len2, len1, i)\n",
        "  sns.distplot(df[item].loc[df['VIX']>high_vix], hist=False, rug=False, color=color_list_custom[i], label=item);\n",
        " # _ = plt.hist(df[item].loc[df['VIX']<low_vix], density = True , bins = 20, facecolor ='g', alpha=0.5)\n",
        "  plt.xticks(fontsize=10)\n",
        "  plt.yticks(fontsize=10)\n",
        "  plt.xlabel('Return, %',fontsize = 10)\n",
        "  plt.ylabel('Probability',fontsize = 10)\n",
        "  plt.title('High VIX',fontsize = 10)\n",
        "  plt.legend(strategy_list_custom)\n",
        "  i+=1\n",
        "fig.tight_layout()\n",
        "fig.show()"
      ],
      "execution_count": null,
      "outputs": [
        {
          "output_type": "display_data",
          "data": {
            "image/png": "[encoded data removed]",
            "text/plain": [
              "<Figure size 720x432 with 1 Axes>"
            ]
          },
          "metadata": {
            "tags": [],
            "needs_background": "light"
          }
        }
      ]
    },
    {
      "cell_type": "code",
      "metadata": {
        "id": "GFBA3d6LnUOd",
        "colab_type": "code",
        "colab": {
          "base_uri": "https://localhost:8080/",
          "height": 441
        },
        "outputId": "24dbb8e7-3f8a-4b3c-fa53-2989bbcd696b"
      },
      "source": [
        "fig = plt.figure(figsize=(10,6))\n",
        "strategy_list_custom = ['IEF_bond_carry', 'IYR_equity_carry', 'LQD_credit']\n",
        "color_list_custom = ['black', 'blue', 'r']\n",
        "i=0\n",
        "for item in strategy_list_custom:\n",
        "  #plt.subplot(len2, len1, i)\n",
        "  sns.distplot(df[item].loc[df['VIX']>high_vix], hist=False, rug=False, color=color_list_custom[i], label=item);\n",
        " # _ = plt.hist(df[item].loc[df['VIX']<low_vix], density = True , bins = 20, facecolor ='g', alpha=0.5)\n",
        "  plt.xticks(fontsize=20)\n",
        "  plt.yticks(fontsize=20)\n",
        "  plt.xlabel('Return, %',fontsize = 20)\n",
        "  plt.ylabel('Probability',fontsize = 20)\n",
        "  plt.title('High VIX',fontsize = 20)\n",
        "  plt.legend(strategy_list_custom,fontsize = 14)\n",
        "  i+=1\n",
        "fig.tight_layout()\n",
        "fig.show()"
      ],
      "execution_count": null,
      "outputs": [
        {
          "output_type": "display_data",
          "data": {
            "image/png": "[encoded data removed]",
            "text/plain": [
              "<Figure size 720x432 with 1 Axes>"
            ]
          },
          "metadata": {
            "tags": [],
            "needs_background": "light"
          }
        }
      ]
    },
    {
      "cell_type": "code",
      "metadata": {
        "id": "AEVQKoSEKP3a",
        "colab_type": "code",
        "colab": {}
      },
      "source": [
        ""
      ],
      "execution_count": null,
      "outputs": []
    }
  ]
}